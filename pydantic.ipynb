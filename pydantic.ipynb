{
 "cells": [
  {
   "cell_type": "markdown",
   "metadata": {},
   "source": [
    "Adapted from https://towardsdatascience.com/pydantic-688e897cfd3a"
   ]
  },
  {
   "cell_type": "code",
   "execution_count": 1,
   "metadata": {
    "ExecuteTime": {
     "end_time": "2021-05-15T17:46:30.754360Z",
     "start_time": "2021-05-15T17:46:30.702355Z"
    }
   },
   "outputs": [],
   "source": [
    "import datetime\n",
    "from decimal import Decimal\n",
    "from typing import List, NewType, Optional\n",
    "\n",
    "# pip install pydantic\n",
    "from pydantic import BaseModel, Field, parse_file_as, validator"
   ]
  },
  {
   "cell_type": "code",
   "execution_count": 2,
   "metadata": {
    "ExecuteTime": {
     "end_time": "2021-05-15T17:46:30.770358Z",
     "start_time": "2021-05-15T17:46:30.755351Z"
    }
   },
   "outputs": [],
   "source": [
    "# We create a new type for the ID of a person, because \n",
    "# PersonId is so much more meaningful than just int\n",
    "PersonId = NewType(\"PersonId\", int)\n",
    "\n",
    "class Person(BaseModel):\n",
    "    id: PersonId\n",
    "    name: str\n",
    "    bank_account: Decimal\n",
    "    birthdate: datetime.date\n",
    "    friends: Optional[List[PersonId]] # this attributed can be omitted\n",
    "    hobbies: List[str] = Field(default_factory=list) # default value -> empty list\n",
    "        \n",
    "    @validator('bank_account')\n",
    "    def validate_bank_account(cls, value):\n",
    "        if value < 0:\n",
    "            raise ValueError(\"Negative bank_account\")\n",
    "        else:\n",
    "            return value"
   ]
  },
  {
   "cell_type": "code",
   "execution_count": 3,
   "metadata": {
    "ExecuteTime": {
     "end_time": "2021-05-15T17:46:30.786351Z",
     "start_time": "2021-05-15T17:46:30.771350Z"
    }
   },
   "outputs": [],
   "source": [
    "people = [\n",
    "{\"id\": 0, \"name\": \"Anna\", \"friends\": None, \"birthdate\": \"1992-01-15\", \"bank_account\": 12.3},\n",
    "{\"id\": 1, \"friends\": [3], \"birthdate\": \"1962-12-31\", \"bank_account\": 0.1},\n",
    "{\"id\": 2, \"name\": \"Charlie\", \"friends\" : [0, 2], \"birthdate\": \"1992-02-999\", \"bank_account\": 9007199254740993.0},\n",
    "{\"id\": 3, \"name\": \"Martin\", \"friends\": [1, 2, 3], \"birthdate\": \"1990-04-28\", \"bank_account\": -5}\n",
    "]"
   ]
  },
  {
   "cell_type": "code",
   "execution_count": 4,
   "metadata": {
    "ExecuteTime": {
     "end_time": "2021-05-15T17:46:30.802364Z",
     "start_time": "2021-05-15T17:46:30.787351Z"
    }
   },
   "outputs": [
    {
     "data": {
      "text/plain": [
       "{'id': 0,\n",
       " 'name': 'Anna',\n",
       " 'friends': None,\n",
       " 'birthdate': '1992-01-15',\n",
       " 'bank_account': 12.3}"
      ]
     },
     "execution_count": 4,
     "metadata": {},
     "output_type": "execute_result"
    }
   ],
   "source": [
    "people[0]"
   ]
  },
  {
   "cell_type": "code",
   "execution_count": 5,
   "metadata": {
    "ExecuteTime": {
     "end_time": "2021-05-15T17:46:30.818403Z",
     "start_time": "2021-05-15T17:46:30.804352Z"
    }
   },
   "outputs": [
    {
     "data": {
      "text/plain": [
       "Person(id=0, name='Anna', bank_account=Decimal('12.3'), birthdate=datetime.date(1992, 1, 15), friends=None, hobbies=[])"
      ]
     },
     "execution_count": 5,
     "metadata": {},
     "output_type": "execute_result"
    }
   ],
   "source": [
    "person_0 = Person(**people[0])\n",
    "person_0"
   ]
  },
  {
   "cell_type": "code",
   "execution_count": 6,
   "metadata": {
    "ExecuteTime": {
     "end_time": "2021-05-15T17:46:30.833550Z",
     "start_time": "2021-05-15T17:46:30.819403Z"
    }
   },
   "outputs": [
    {
     "data": {
      "text/plain": [
       "'Anna'"
      ]
     },
     "execution_count": 6,
     "metadata": {},
     "output_type": "execute_result"
    }
   ],
   "source": [
    "person_0.name"
   ]
  },
  {
   "cell_type": "code",
   "execution_count": 7,
   "metadata": {
    "ExecuteTime": {
     "end_time": "2021-05-15T17:46:30.880552Z",
     "start_time": "2021-05-15T17:46:30.834551Z"
    }
   },
   "outputs": [
    {
     "ename": "ValidationError",
     "evalue": "1 validation error for Person\nname\n  field required (type=value_error.missing)",
     "output_type": "error",
     "traceback": [
      "\u001b[1;31m---------------------------------------------------------------------------\u001b[0m",
      "\u001b[1;31mValidationError\u001b[0m                           Traceback (most recent call last)",
      "\u001b[1;32m<ipython-input-7-3d201c036dc3>\u001b[0m in \u001b[0;36m<module>\u001b[1;34m\u001b[0m\n\u001b[0;32m      1\u001b[0m \u001b[1;31m# Error, because people[1] is missing the \"name\" key,\u001b[0m\u001b[1;33m\u001b[0m\u001b[1;33m\u001b[0m\u001b[1;33m\u001b[0m\u001b[0m\n\u001b[0;32m      2\u001b[0m \u001b[1;31m# and it is not Optional (like \"friends\")\u001b[0m\u001b[1;33m\u001b[0m\u001b[1;33m\u001b[0m\u001b[1;33m\u001b[0m\u001b[0m\n\u001b[1;32m----> 3\u001b[1;33m \u001b[0mperson_1\u001b[0m \u001b[1;33m=\u001b[0m \u001b[0mPerson\u001b[0m\u001b[1;33m(\u001b[0m\u001b[1;33m**\u001b[0m\u001b[0mpeople\u001b[0m\u001b[1;33m[\u001b[0m\u001b[1;36m1\u001b[0m\u001b[1;33m]\u001b[0m\u001b[1;33m)\u001b[0m\u001b[1;33m\u001b[0m\u001b[1;33m\u001b[0m\u001b[0m\n\u001b[0m\u001b[0;32m      4\u001b[0m \u001b[0mperson_1\u001b[0m\u001b[1;33m\u001b[0m\u001b[1;33m\u001b[0m\u001b[0m\n",
      "\u001b[1;32mC:\\ProgramData\\Anaconda3\\lib\\site-packages\\pydantic\\main.cp37-win_amd64.pyd\u001b[0m in \u001b[0;36mpydantic.main.BaseModel.__init__\u001b[1;34m()\u001b[0m\n",
      "\u001b[1;31mValidationError\u001b[0m: 1 validation error for Person\nname\n  field required (type=value_error.missing)"
     ]
    }
   ],
   "source": [
    "# Error, because people[1] is missing the \"name\" key, \n",
    "# and it is not Optional (like \"friends\")\n",
    "person_1 = Person(**people[1])\n",
    "person_1"
   ]
  },
  {
   "cell_type": "code",
   "execution_count": 8,
   "metadata": {
    "ExecuteTime": {
     "end_time": "2021-05-15T17:46:33.302089Z",
     "start_time": "2021-05-15T17:46:33.288081Z"
    }
   },
   "outputs": [
    {
     "ename": "ValidationError",
     "evalue": "1 validation error for Person\nbirthdate\n  invalid date format (type=value_error.date)",
     "output_type": "error",
     "traceback": [
      "\u001b[1;31m---------------------------------------------------------------------------\u001b[0m",
      "\u001b[1;31mValidationError\u001b[0m                           Traceback (most recent call last)",
      "\u001b[1;32m<ipython-input-8-d63bb284f00e>\u001b[0m in \u001b[0;36m<module>\u001b[1;34m\u001b[0m\n\u001b[0;32m      1\u001b[0m \u001b[1;31m# Error, because birthdate doesn't have a valid format\u001b[0m\u001b[1;33m\u001b[0m\u001b[1;33m\u001b[0m\u001b[1;33m\u001b[0m\u001b[0m\n\u001b[1;32m----> 2\u001b[1;33m \u001b[0mperson_2\u001b[0m \u001b[1;33m=\u001b[0m \u001b[0mPerson\u001b[0m\u001b[1;33m(\u001b[0m\u001b[1;33m**\u001b[0m\u001b[0mpeople\u001b[0m\u001b[1;33m[\u001b[0m\u001b[1;36m2\u001b[0m\u001b[1;33m]\u001b[0m\u001b[1;33m)\u001b[0m\u001b[1;33m\u001b[0m\u001b[1;33m\u001b[0m\u001b[0m\n\u001b[0m\u001b[0;32m      3\u001b[0m \u001b[0mperson_2\u001b[0m\u001b[1;33m\u001b[0m\u001b[1;33m\u001b[0m\u001b[0m\n",
      "\u001b[1;32mC:\\ProgramData\\Anaconda3\\lib\\site-packages\\pydantic\\main.cp37-win_amd64.pyd\u001b[0m in \u001b[0;36mpydantic.main.BaseModel.__init__\u001b[1;34m()\u001b[0m\n",
      "\u001b[1;31mValidationError\u001b[0m: 1 validation error for Person\nbirthdate\n  invalid date format (type=value_error.date)"
     ]
    }
   ],
   "source": [
    "# Error, because birthdate doesn't have a valid format\n",
    "person_2 = Person(**people[2])\n",
    "person_2"
   ]
  },
  {
   "cell_type": "code",
   "execution_count": 9,
   "metadata": {
    "ExecuteTime": {
     "end_time": "2021-05-15T17:46:33.660222Z",
     "start_time": "2021-05-15T17:46:33.639211Z"
    }
   },
   "outputs": [
    {
     "ename": "ValidationError",
     "evalue": "1 validation error for Person\nbank_account\n  Negative bank_account (type=value_error)",
     "output_type": "error",
     "traceback": [
      "\u001b[1;31m---------------------------------------------------------------------------\u001b[0m",
      "\u001b[1;31mValidationError\u001b[0m                           Traceback (most recent call last)",
      "\u001b[1;32m<ipython-input-9-a3e05a87c0b8>\u001b[0m in \u001b[0;36m<module>\u001b[1;34m\u001b[0m\n\u001b[0;32m      1\u001b[0m \u001b[1;31m# Error, because bank_account has a negative value (didn't pass the validator)\u001b[0m\u001b[1;33m\u001b[0m\u001b[1;33m\u001b[0m\u001b[1;33m\u001b[0m\u001b[0m\n\u001b[1;32m----> 2\u001b[1;33m \u001b[0mperson_3\u001b[0m \u001b[1;33m=\u001b[0m \u001b[0mPerson\u001b[0m\u001b[1;33m(\u001b[0m\u001b[1;33m**\u001b[0m\u001b[0mpeople\u001b[0m\u001b[1;33m[\u001b[0m\u001b[1;36m3\u001b[0m\u001b[1;33m]\u001b[0m\u001b[1;33m)\u001b[0m\u001b[1;33m\u001b[0m\u001b[1;33m\u001b[0m\u001b[0m\n\u001b[0m\u001b[0;32m      3\u001b[0m \u001b[0mperson_3\u001b[0m\u001b[1;33m\u001b[0m\u001b[1;33m\u001b[0m\u001b[0m\n",
      "\u001b[1;32mC:\\ProgramData\\Anaconda3\\lib\\site-packages\\pydantic\\main.cp37-win_amd64.pyd\u001b[0m in \u001b[0;36mpydantic.main.BaseModel.__init__\u001b[1;34m()\u001b[0m\n",
      "\u001b[1;31mValidationError\u001b[0m: 1 validation error for Person\nbank_account\n  Negative bank_account (type=value_error)"
     ]
    }
   ],
   "source": [
    "# Error, because bank_account has a negative value (didn't pass the validator)\n",
    "person_3 = Person(**people[3])\n",
    "person_3"
   ]
  },
  {
   "cell_type": "markdown",
   "metadata": {},
   "source": [
    "# Reading JSON config"
   ]
  },
  {
   "cell_type": "code",
   "execution_count": 10,
   "metadata": {
    "ExecuteTime": {
     "end_time": "2021-05-15T17:46:34.750342Z",
     "start_time": "2021-05-15T17:46:34.735685Z"
    }
   },
   "outputs": [],
   "source": [
    "from pathlib import Path"
   ]
  },
  {
   "cell_type": "markdown",
   "metadata": {},
   "source": [
    "### Valid config"
   ]
  },
  {
   "cell_type": "code",
   "execution_count": 11,
   "metadata": {
    "ExecuteTime": {
     "end_time": "2021-05-15T17:46:35.603882Z",
     "start_time": "2021-05-15T17:46:35.591872Z"
    }
   },
   "outputs": [
    {
     "name": "stdout",
     "output_type": "stream",
     "text": [
      "[\n",
      "{\"id\": 0, \"name\": \"Anna\", \"friends\": [1, 2, 3], \"birthdate\": \"1992-01-15\", \"bank_account\": 12.3},\n",
      "{\"id\": 1, \"name\": \"Nicole\", \"friends\": [3], \"birthdate\": \"1962-12-31\", \"bank_account\": 0.1},\n",
      "{\"id\": 2, \"name\": \"Charlie\", \"friends\" : [0, 2], \"birthdate\": \"1992-02-28\", \"bank_account\": 9007199254740993.0},\n",
      "{\"id\": 3, \"name\": \"Martin\", \"friends\": null, \"birthdate\": \"1990-04-28\", \"bank_account\": 9007199254740993}\n",
      "]\n"
     ]
    }
   ],
   "source": [
    "print(Path('resources/people_valid.json').read_text())"
   ]
  },
  {
   "cell_type": "code",
   "execution_count": 12,
   "metadata": {
    "ExecuteTime": {
     "end_time": "2021-05-15T17:46:35.998162Z",
     "start_time": "2021-05-15T17:46:35.983982Z"
    }
   },
   "outputs": [
    {
     "data": {
      "text/plain": [
       "[Person(id=0, name='Anna', bank_account=Decimal('12.3'), birthdate=datetime.date(1992, 1, 15), friends=[1, 2, 3], hobbies=[]),\n",
       " Person(id=1, name='Nicole', bank_account=Decimal('0.1'), birthdate=datetime.date(1962, 12, 31), friends=[3], hobbies=[]),\n",
       " Person(id=2, name='Charlie', bank_account=Decimal('9007199254740992.0'), birthdate=datetime.date(1992, 2, 28), friends=[0, 2], hobbies=[]),\n",
       " Person(id=3, name='Martin', bank_account=Decimal('9007199254740993'), birthdate=datetime.date(1990, 4, 28), friends=None, hobbies=[])]"
      ]
     },
     "execution_count": 12,
     "metadata": {},
     "output_type": "execute_result"
    }
   ],
   "source": [
    "valid_config = parse_file_as(List[Person], 'resources/people_valid.json')\n",
    "valid_config"
   ]
  },
  {
   "cell_type": "markdown",
   "metadata": {},
   "source": [
    "### Invalid config"
   ]
  },
  {
   "cell_type": "code",
   "execution_count": 13,
   "metadata": {
    "ExecuteTime": {
     "end_time": "2021-05-15T17:46:37.216965Z",
     "start_time": "2021-05-15T17:46:37.200704Z"
    }
   },
   "outputs": [
    {
     "name": "stdout",
     "output_type": "stream",
     "text": [
      "[\n",
      "{\"id\": 0, \"name\": \"Anna\", \"friends\": [1, 2, 3], \"birthdate\": \"1992-01-15\", \"bank_account\": 12.3},\n",
      "{\"id\": 1, \"friends\": [3], \"birthdate\": \"1962-12-31\", \"bank_account\": 0.1},\n",
      "{\"id\": 2, \"name\": \"Charlie\", \"friends\" : [0, 2], \"birthdate\": \"1992-02-999\", \"bank_account\": 9007199254740993.0},\n",
      "{\"id\": 3, \"name\": \"Martin\", \"friends\": null, \"birthdate\": \"1990-04-28\", \"bank_account\": 9007199254740993}\n",
      "]\n"
     ]
    }
   ],
   "source": [
    "print(Path('resources/people_invalid.json').read_text())"
   ]
  },
  {
   "cell_type": "code",
   "execution_count": 14,
   "metadata": {
    "ExecuteTime": {
     "end_time": "2021-05-15T17:46:37.606903Z",
     "start_time": "2021-05-15T17:46:37.583829Z"
    }
   },
   "outputs": [
    {
     "ename": "ValidationError",
     "evalue": "2 validation errors for ParsingModel[List[__main__.Person]]\n__root__ -> 1 -> name\n  field required (type=value_error.missing)\n__root__ -> 2 -> birthdate\n  invalid date format (type=value_error.date)",
     "output_type": "error",
     "traceback": [
      "\u001b[1;31m---------------------------------------------------------------------------\u001b[0m",
      "\u001b[1;31mValidationError\u001b[0m                           Traceback (most recent call last)",
      "\u001b[1;32m<ipython-input-14-c1339ff0ee12>\u001b[0m in \u001b[0;36m<module>\u001b[1;34m\u001b[0m\n\u001b[1;32m----> 1\u001b[1;33m \u001b[0minvalid_config\u001b[0m \u001b[1;33m=\u001b[0m \u001b[0mparse_file_as\u001b[0m\u001b[1;33m(\u001b[0m\u001b[0mList\u001b[0m\u001b[1;33m[\u001b[0m\u001b[0mPerson\u001b[0m\u001b[1;33m]\u001b[0m\u001b[1;33m,\u001b[0m \u001b[1;34m'resources/people_invalid.json'\u001b[0m\u001b[1;33m)\u001b[0m\u001b[1;33m\u001b[0m\u001b[1;33m\u001b[0m\u001b[0m\n\u001b[0m\u001b[0;32m      2\u001b[0m \u001b[0minvalid_config\u001b[0m\u001b[1;33m\u001b[0m\u001b[1;33m\u001b[0m\u001b[0m\n",
      "\u001b[1;32mC:\\ProgramData\\Anaconda3\\lib\\site-packages\\pydantic\\tools.cp37-win_amd64.pyd\u001b[0m in \u001b[0;36mpydantic.tools.parse_file_as\u001b[1;34m()\u001b[0m\n",
      "\u001b[1;32mC:\\ProgramData\\Anaconda3\\lib\\site-packages\\pydantic\\tools.cp37-win_amd64.pyd\u001b[0m in \u001b[0;36mpydantic.tools.parse_obj_as\u001b[1;34m()\u001b[0m\n",
      "\u001b[1;32mC:\\ProgramData\\Anaconda3\\lib\\site-packages\\pydantic\\main.cp37-win_amd64.pyd\u001b[0m in \u001b[0;36mpydantic.main.BaseModel.__init__\u001b[1;34m()\u001b[0m\n",
      "\u001b[1;31mValidationError\u001b[0m: 2 validation errors for ParsingModel[List[__main__.Person]]\n__root__ -> 1 -> name\n  field required (type=value_error.missing)\n__root__ -> 2 -> birthdate\n  invalid date format (type=value_error.date)"
     ]
    }
   ],
   "source": [
    "invalid_config = parse_file_as(List[Person], 'resources/people_invalid.json')\n",
    "invalid_config"
   ]
  }
 ],
 "metadata": {
  "kernelspec": {
   "display_name": "Python 3",
   "language": "python",
   "name": "python3"
  },
  "language_info": {
   "codemirror_mode": {
    "name": "ipython",
    "version": 3
   },
   "file_extension": ".py",
   "mimetype": "text/x-python",
   "name": "python",
   "nbconvert_exporter": "python",
   "pygments_lexer": "ipython3",
   "version": "3.7.6"
  }
 },
 "nbformat": 4,
 "nbformat_minor": 4
}
