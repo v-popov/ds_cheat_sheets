{
 "cells": [
  {
   "cell_type": "code",
   "execution_count": 1,
   "metadata": {},
   "outputs": [],
   "source": [
    "import sklearn"
   ]
  },
  {
   "cell_type": "markdown",
   "metadata": {},
   "source": [
    "# Check Package Version"
   ]
  },
  {
   "cell_type": "code",
   "execution_count": 2,
   "metadata": {},
   "outputs": [
    {
     "name": "stdout",
     "output_type": "stream",
     "text": [
      "0.21.2\n"
     ]
    }
   ],
   "source": [
    "print(sklearn.__version__)"
   ]
  },
  {
   "cell_type": "markdown",
   "metadata": {},
   "source": [
    "Or type in Conda Terminal:\n",
    "    \n",
    "    conda list"
   ]
  },
  {
   "cell_type": "markdown",
   "metadata": {},
   "source": [
    "# Update Package to the Latest Version"
   ]
  },
  {
   "cell_type": "markdown",
   "metadata": {},
   "source": [
    "1) Run conda terminal as administrator\n",
    "\n",
    "2) Check the package version:\n",
    "\n",
    "    conda list\n",
    "    \n",
    "3) Update the package:\n",
    "\n",
    "    conda update scikit-learn\n",
    "    \n",
    "4) Confirm the package was updated:\n",
    "\n",
    "    conda list\n",
    "    \n",
    "5) Restart the Kernel"
   ]
  },
  {
   "cell_type": "markdown",
   "metadata": {},
   "source": [
    "# Install Specific Version of the Package"
   ]
  },
  {
   "cell_type": "markdown",
   "metadata": {},
   "source": [
    "1) Run conda terminal as administrator\n",
    "\n",
    "2) Check the package version:\n",
    "\n",
    "    conda list\n",
    "    \n",
    "3) Type:\n",
    "    \n",
    "    conda config --append channels conda-forge\n",
    "\n",
    "4) Type: \n",
    "\n",
    "    conda install scikit-learn=0.19.2\n",
    "\n",
    "5) Confirm the required version was installed:\n",
    "\n",
    "    conda list\n",
    "\n",
    "6) Restart the Kernel"
   ]
  }
 ],
 "metadata": {
  "kernelspec": {
   "display_name": "Python 3",
   "language": "python",
   "name": "python3"
  },
  "language_info": {
   "codemirror_mode": {
    "name": "ipython",
    "version": 3
   },
   "file_extension": ".py",
   "mimetype": "text/x-python",
   "name": "python",
   "nbconvert_exporter": "python",
   "pygments_lexer": "ipython3",
   "version": "3.7.1"
  }
 },
 "nbformat": 4,
 "nbformat_minor": 2
}
