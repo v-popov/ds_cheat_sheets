{
 "cells": [
  {
   "cell_type": "markdown",
   "metadata": {},
   "source": [
    "# Standard Deviation vs Standard Error "
   ]
  },
  {
   "cell_type": "code",
   "execution_count": 1,
   "metadata": {},
   "outputs": [],
   "source": [
    "import numpy as np\n",
    "import matplotlib.pyplot as plt"
   ]
  },
  {
   "cell_type": "code",
   "execution_count": 2,
   "metadata": {},
   "outputs": [],
   "source": [
    "population_size = 1000000\n",
    "np.random.seed(1)\n",
    "population = np.random.normal(loc=5, scale=4, size=population_size)"
   ]
  },
  {
   "cell_type": "code",
   "execution_count": 3,
   "metadata": {},
   "outputs": [
    {
     "data": {
      "image/png": "[encoded data removed]",
      "text/plain": [
       "<Figure size 432x288 with 1 Axes>"
      ]
     },
     "metadata": {
      "needs_background": "light"
     },
     "output_type": "display_data"
    },
    {
     "name": "stdout",
     "output_type": "stream",
     "text": [
      "Population Standard Deviation:  3.997959388533262\n"
     ]
    }
   ],
   "source": [
    "_ = plt.hist(population, bins=50)\n",
    "plt.title(\"Population Distribution\")\n",
    "plt.show()\n",
    "print(\"Population Standard Deviation: \", np.std(population))"
   ]
  },
  {
   "cell_type": "code",
   "execution_count": 4,
   "metadata": {},
   "outputs": [],
   "source": [
    "def get_sample(data, sample_size, seed):\n",
    "    np.random.seed(seed)\n",
    "    inds = np.random.randint(low=0, high=len(data), size=sample_size)\n",
    "    return data[inds]"
   ]
  },
  {
   "cell_type": "code",
   "execution_count": 5,
   "metadata": {},
   "outputs": [],
   "source": [
    "def draw_n_samples(data, n, sample_size):\n",
    "    return [get_sample(data, sample_size, seed=i) for i in range(n)]"
   ]
  },
  {
   "cell_type": "code",
   "execution_count": 6,
   "metadata": {},
   "outputs": [],
   "source": [
    "num_samples = 5000\n",
    "sample_size = 1000\n",
    "\n",
    "samples = draw_n_samples(population, num_samples, sample_size)\n",
    "\n",
    "samples_means = list(map(np.mean, samples))"
   ]
  },
  {
   "cell_type": "code",
   "execution_count": 7,
   "metadata": {},
   "outputs": [
    {
     "data": {
      "image/png": "[encoded data removed]",
      "text/plain": [
       "<Figure size 432x288 with 1 Axes>"
      ]
     },
     "metadata": {
      "needs_background": "light"
     },
     "output_type": "display_data"
    },
    {
     "name": "stdout",
     "output_type": "stream",
     "text": [
      "Samples' Means Standard Deviation:  0.12573719141024273\n"
     ]
    }
   ],
   "source": [
    "_ = plt.hist(samples_means, bins=50)\n",
    "plt.title(\"Samples' Means Distribution\")\n",
    "plt.show()\n",
    "print(\"Samples' Means Standard Deviation: \", np.std(samples_means))"
   ]
  },
  {
   "cell_type": "code",
   "execution_count": 8,
   "metadata": {},
   "outputs": [
    {
     "name": "stdout",
     "output_type": "stream",
     "text": [
      "Standard deviation of samples' means:  0.12573719141024273\n"
     ]
    }
   ],
   "source": [
    "print(\"Standard deviation of samples' means: \", np.std(samples_means))"
   ]
  },
  {
   "cell_type": "code",
   "execution_count": 9,
   "metadata": {},
   "outputs": [
    {
     "name": "stdout",
     "output_type": "stream",
     "text": [
      "Standard error of the mean:  0.1264265766061917\n"
     ]
    }
   ],
   "source": [
    "print(\"Standard error of the mean: \", population.std() / np.sqrt(sample_size))"
   ]
  },
  {
   "cell_type": "code",
   "execution_count": null,
   "metadata": {},
   "outputs": [],
   "source": []
  }
 ],
 "metadata": {
  "kernelspec": {
   "display_name": "Python 3",
   "language": "python",
   "name": "python3"
  },
  "language_info": {
   "codemirror_mode": {
    "name": "ipython",
    "version": 3
   },
   "file_extension": ".py",
   "mimetype": "text/x-python",
   "name": "python",
   "nbconvert_exporter": "python",
   "pygments_lexer": "ipython3",
   "version": "3.7.6"
  }
 },
 "nbformat": 4,
 "nbformat_minor": 4
}
