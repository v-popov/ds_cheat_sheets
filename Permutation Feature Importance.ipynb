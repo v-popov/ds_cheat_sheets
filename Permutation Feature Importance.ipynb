{
 "cells": [
  {
   "cell_type": "code",
   "execution_count": 1,
   "metadata": {},
   "outputs": [],
   "source": [
    "import pandas as pd\n",
    "import numpy as np\n",
    "from sklearn.model_selection import train_test_split\n",
    "#import seaborn as sns\n",
    "from matplotlib import pyplot as plt\n",
    "#%matplotlib inline"
   ]
  },
  {
   "cell_type": "code",
   "execution_count": 2,
   "metadata": {},
   "outputs": [],
   "source": [
    "from sklearn.metrics import mean_squared_error as mse\n",
    "from lightgbm import LGBMRegressor\n",
    "import joblib"
   ]
  },
  {
   "cell_type": "code",
   "execution_count": 3,
   "metadata": {},
   "outputs": [
    {
     "data": {
      "text/html": [
       "<div>\n",
       "<style scoped>\n",
       "    .dataframe tbody tr th:only-of-type {\n",
       "        vertical-align: middle;\n",
       "    }\n",
       "\n",
       "    .dataframe tbody tr th {\n",
       "        vertical-align: top;\n",
       "    }\n",
       "\n",
       "    .dataframe thead th {\n",
       "        text-align: right;\n",
       "    }\n",
       "</style>\n",
       "<table border=\"1\" class=\"dataframe\">\n",
       "  <thead>\n",
       "    <tr style=\"text-align: right;\">\n",
       "      <th></th>\n",
       "      <th>plant_country</th>\n",
       "      <th>plant_state</th>\n",
       "      <th>plant_city</th>\n",
       "      <th>plant_zip3</th>\n",
       "      <th>plant_zip</th>\n",
       "      <th>ship_to_country</th>\n",
       "      <th>ship_to_state</th>\n",
       "      <th>ship_to_city</th>\n",
       "      <th>ship_to_zip3</th>\n",
       "      <th>ship_to_zip</th>\n",
       "      <th>weight_in_sto</th>\n",
       "      <th>distance_in_miles</th>\n",
       "      <th>total_cost_usd</th>\n",
       "    </tr>\n",
       "  </thead>\n",
       "  <tbody>\n",
       "    <tr>\n",
       "      <th>0</th>\n",
       "      <td>1132.85986</td>\n",
       "      <td>1411.949564</td>\n",
       "      <td>1411.949564</td>\n",
       "      <td>1411.949564</td>\n",
       "      <td>1411.949564</td>\n",
       "      <td>920.887836</td>\n",
       "      <td>610.130136</td>\n",
       "      <td>1251.045865</td>\n",
       "      <td>1257.920638</td>\n",
       "      <td>1265.347328</td>\n",
       "      <td>24.442622</td>\n",
       "      <td>264.704128</td>\n",
       "      <td>1209.9225</td>\n",
       "    </tr>\n",
       "    <tr>\n",
       "      <th>1</th>\n",
       "      <td>1132.85986</td>\n",
       "      <td>1411.949564</td>\n",
       "      <td>1411.949564</td>\n",
       "      <td>1411.949564</td>\n",
       "      <td>1411.949564</td>\n",
       "      <td>920.887836</td>\n",
       "      <td>610.130136</td>\n",
       "      <td>1251.045865</td>\n",
       "      <td>1257.920638</td>\n",
       "      <td>1265.347328</td>\n",
       "      <td>24.289401</td>\n",
       "      <td>264.704128</td>\n",
       "      <td>1072.6500</td>\n",
       "    </tr>\n",
       "    <tr>\n",
       "      <th>2</th>\n",
       "      <td>1132.85986</td>\n",
       "      <td>1411.949564</td>\n",
       "      <td>1411.949564</td>\n",
       "      <td>1411.949564</td>\n",
       "      <td>1411.949564</td>\n",
       "      <td>920.887836</td>\n",
       "      <td>610.130136</td>\n",
       "      <td>1251.045865</td>\n",
       "      <td>1257.920638</td>\n",
       "      <td>1265.347328</td>\n",
       "      <td>24.542932</td>\n",
       "      <td>264.704128</td>\n",
       "      <td>1072.6500</td>\n",
       "    </tr>\n",
       "    <tr>\n",
       "      <th>3</th>\n",
       "      <td>1132.85986</td>\n",
       "      <td>1411.949564</td>\n",
       "      <td>1411.949564</td>\n",
       "      <td>1411.949564</td>\n",
       "      <td>1411.949564</td>\n",
       "      <td>920.887836</td>\n",
       "      <td>610.130136</td>\n",
       "      <td>1251.045865</td>\n",
       "      <td>1257.920638</td>\n",
       "      <td>1265.347328</td>\n",
       "      <td>24.853784</td>\n",
       "      <td>264.704128</td>\n",
       "      <td>1072.6500</td>\n",
       "    </tr>\n",
       "    <tr>\n",
       "      <th>4</th>\n",
       "      <td>1132.85986</td>\n",
       "      <td>1411.949564</td>\n",
       "      <td>1411.949564</td>\n",
       "      <td>1411.949564</td>\n",
       "      <td>1411.949564</td>\n",
       "      <td>920.887836</td>\n",
       "      <td>610.130136</td>\n",
       "      <td>1251.045865</td>\n",
       "      <td>1257.920638</td>\n",
       "      <td>1265.347328</td>\n",
       "      <td>24.933150</td>\n",
       "      <td>264.704128</td>\n",
       "      <td>1072.6500</td>\n",
       "    </tr>\n",
       "  </tbody>\n",
       "</table>\n",
       "</div>"
      ],
      "text/plain": [
       "   plant_country  plant_state   plant_city   plant_zip3    plant_zip  \\\n",
       "0     1132.85986  1411.949564  1411.949564  1411.949564  1411.949564   \n",
       "1     1132.85986  1411.949564  1411.949564  1411.949564  1411.949564   \n",
       "2     1132.85986  1411.949564  1411.949564  1411.949564  1411.949564   \n",
       "3     1132.85986  1411.949564  1411.949564  1411.949564  1411.949564   \n",
       "4     1132.85986  1411.949564  1411.949564  1411.949564  1411.949564   \n",
       "\n",
       "   ship_to_country  ship_to_state  ship_to_city  ship_to_zip3  ship_to_zip  \\\n",
       "0       920.887836     610.130136   1251.045865   1257.920638  1265.347328   \n",
       "1       920.887836     610.130136   1251.045865   1257.920638  1265.347328   \n",
       "2       920.887836     610.130136   1251.045865   1257.920638  1265.347328   \n",
       "3       920.887836     610.130136   1251.045865   1257.920638  1265.347328   \n",
       "4       920.887836     610.130136   1251.045865   1257.920638  1265.347328   \n",
       "\n",
       "   weight_in_sto  distance_in_miles  total_cost_usd  \n",
       "0      24.442622         264.704128       1209.9225  \n",
       "1      24.289401         264.704128       1072.6500  \n",
       "2      24.542932         264.704128       1072.6500  \n",
       "3      24.853784         264.704128       1072.6500  \n",
       "4      24.933150         264.704128       1072.6500  "
      ]
     },
     "execution_count": 3,
     "metadata": {},
     "output_type": "execute_result"
    }
   ],
   "source": [
    "hist_ship_df = pd.read_csv('perm_feat_imp_example.csv')\n",
    "hist_ship_df.head()"
   ]
  },
  {
   "cell_type": "code",
   "execution_count": 4,
   "metadata": {},
   "outputs": [],
   "source": [
    "columns_to_select = list(set(hist_ship_df.columns) - {'total_cost_usd'})\n",
    "x = hist_ship_df[columns_to_select].values\n",
    "y = hist_ship_df['total_cost_usd'].values"
   ]
  },
  {
   "cell_type": "code",
   "execution_count": 5,
   "metadata": {},
   "outputs": [],
   "source": [
    "x_train, x_test, y_train, y_test = train_test_split(x, y, train_size=0.8, shuffle=True, stratify=None)"
   ]
  },
  {
   "cell_type": "code",
   "execution_count": 6,
   "metadata": {},
   "outputs": [],
   "source": [
    "# Complex model training and hyperparameter tuning :)\n",
    "model = LGBMRegressor().fit(x_train, y_train)"
   ]
  },
  {
   "cell_type": "code",
   "execution_count": 7,
   "metadata": {},
   "outputs": [
    {
     "data": {
      "text/plain": [
       "(47819.58314093501, 51198.23568801152)"
      ]
     },
     "execution_count": 7,
     "metadata": {},
     "output_type": "execute_result"
    }
   ],
   "source": [
    "train_error = mse(model.predict(x_train), y_train)\n",
    "test_error = mse(model.predict(x_test), y_test)\n",
    "train_error, test_error"
   ]
  },
  {
   "cell_type": "code",
   "execution_count": 8,
   "metadata": {},
   "outputs": [],
   "source": [
    "def calculate_metric(y_true, y_hat):\n",
    "    return ((y_true - y_hat) ** 2).mean()\n",
    "\n",
    "def permutation_feature_importance(model, x, y, cols, num_iterations=10):\n",
    "    perm_mse_dict = {}\n",
    "    for feature_num in range(len(cols)):\n",
    "        for i in range(num_iterations):\n",
    "            permuted_inds = np.random.RandomState(seed=i).permutation(x.shape[0])\n",
    "            x_perm = np.copy(x)\n",
    "            x_perm[:, feature_num] = x_perm[permuted_inds, feature_num]\n",
    "\n",
    "            y_hat = model.predict(x_perm)\n",
    "            mse_model = calculate_metric(y, y_hat)\n",
    "\n",
    "            if cols[feature_num] in perm_mse_dict:\n",
    "                perm_mse_dict[cols[feature_num]].append(mse_model)\n",
    "            else:\n",
    "                perm_mse_dict[cols[feature_num]] = [mse_model]\n",
    "    return perm_mse_dict\n",
    "\n",
    "def plot_perm_feat_imp(perm_mse_dict, model_error=0, figsize=(10, 10), rotation=20):\n",
    "    melted_df = pd.melt(pd.DataFrame(perm_mse_dict))\n",
    "    fig = plt.figure(figsize=figsize);\n",
    "    names = list(melted_df['variable'])\n",
    "    values = list(melted_df['value'])\n",
    "    g = plt.scatter(values, names, c='b');\n",
    "    plt.axvline(model_error, c='r');\n",
    "    plt.xticks(rotation=rotation);\n",
    "    plt.grid();\n",
    "    return g"
   ]
  },
  {
   "cell_type": "code",
   "execution_count": 9,
   "metadata": {},
   "outputs": [],
   "source": [
    "perm_mse_dict_train = permutation_feature_importance(model, x_train, y_train, cols=columns_to_select)"
   ]
  },
  {
   "cell_type": "code",
   "execution_count": 10,
   "metadata": {
    "scrolled": true
   },
   "outputs": [],
   "source": [
    "perm_mse_dict_test = permutation_feature_importance(model, x_test, y_test, cols=columns_to_select)"
   ]
  },
  {
   "cell_type": "code",
   "execution_count": 11,
   "metadata": {},
   "outputs": [
    {
     "data": {
      "image/png": "[encoded data removed]",
      "text/plain": [
       "<Figure size 720x720 with 1 Axes>"
      ]
     },
     "metadata": {
      "needs_background": "light"
     },
     "output_type": "display_data"
    }
   ],
   "source": [
    "g = plot_perm_feat_imp(perm_mse_dict_train, train_error);\n",
    "plt.title('Train');\n",
    "# Indicates how model relies on different features to make predictions"
   ]
  },
  {
   "cell_type": "code",
   "execution_count": 12,
   "metadata": {},
   "outputs": [
    {
     "data": {
      "image/png": "[encoded data removed]",
      "text/plain": [
       "<Figure size 720x720 with 1 Axes>"
      ]
     },
     "metadata": {
      "needs_background": "light"
     },
     "output_type": "display_data"
    }
   ],
   "source": [
    "plot_perm_feat_imp(perm_mse_dict_test, test_error)\n",
    "plt.title('Test');\n",
    "# Indicates how different features are affecting true relationship"
   ]
  }
 ],
 "metadata": {
  "kernelspec": {
   "display_name": "Python 3",
   "language": "python",
   "name": "python3"
  },
  "language_info": {
   "codemirror_mode": {
    "name": "ipython",
    "version": 3
   },
   "file_extension": ".py",
   "mimetype": "text/x-python",
   "name": "python",
   "nbconvert_exporter": "python",
   "pygments_lexer": "ipython3",
   "version": "3.7.3"
  }
 },
 "nbformat": 4,
 "nbformat_minor": 2
}
