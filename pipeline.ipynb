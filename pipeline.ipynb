{
 "cells": [
  {
   "cell_type": "code",
   "execution_count": 1,
   "metadata": {},
   "outputs": [],
   "source": [
    "from sklearn.pipeline import Pipeline\n",
    "from sklearn.impute import SimpleImputer\n",
    "from sklearn.preprocessing import StandardScaler, OneHotEncoder\n",
    "from sklearn.compose import ColumnTransformer\n",
    "from sklearn.ensemble import RandomForestRegressor\n",
    "from sklearn.model_selection import GridSearchCV\n",
    "\n",
    "import pandas as pd\n",
    "from sklearn.model_selection import train_test_split\n",
    "\n",
    "from sklearn.base import BaseEstimator, TransformerMixin"
   ]
  },
  {
   "cell_type": "code",
   "execution_count": 2,
   "metadata": {},
   "outputs": [],
   "source": [
    "class CustomNumberTransformer(BaseEstimator, TransformerMixin):\n",
    "    def __init__(self):\n",
    "        return None\n",
    "\n",
    "    def fit(self, X, y=None):\n",
    "        return self\n",
    "\n",
    "    def transform(self, X, y=None):\n",
    "        return X+100"
   ]
  },
  {
   "cell_type": "code",
   "execution_count": 3,
   "metadata": {},
   "outputs": [],
   "source": [
    "class CustomCategoricalTransformer(BaseEstimator, TransformerMixin ):\n",
    "\n",
    "    def __init__(self):\n",
    "        return None\n",
    "\n",
    "    def fit( self, X, y=None):\n",
    "        return self\n",
    "\n",
    "    def modify(self, obj):\n",
    "        return obj[0]\n",
    "\n",
    "    def transform(self, X, y=None ):\n",
    "        for col in X.columns:\n",
    "            X.loc[:,col] = X.loc[:,col].apply(self.modify)\n",
    "\n",
    "        return X.values "
   ]
  },
  {
   "cell_type": "code",
   "execution_count": 4,
   "metadata": {},
   "outputs": [
    {
     "name": "stdout",
     "output_type": "stream",
     "text": [
      "(51, 8)\n"
     ]
    },
    {
     "data": {
      "text/html": [
       "<div>\n",
       "<style scoped>\n",
       "    .dataframe tbody tr th:only-of-type {\n",
       "        vertical-align: middle;\n",
       "    }\n",
       "\n",
       "    .dataframe tbody tr th {\n",
       "        vertical-align: top;\n",
       "    }\n",
       "\n",
       "    .dataframe thead th {\n",
       "        text-align: right;\n",
       "    }\n",
       "</style>\n",
       "<table border=\"1\" class=\"dataframe\">\n",
       "  <thead>\n",
       "    <tr style=\"text-align: right;\">\n",
       "      <th></th>\n",
       "      <th>State</th>\n",
       "      <th>Number of drivers involved in fatal collisions per billion miles</th>\n",
       "      <th>Percentage Of Drivers Involved In Fatal Collisions Who Were Speeding</th>\n",
       "      <th>Percentage Of Drivers Involved In Fatal Collisions Who Were Alcohol-Impaired</th>\n",
       "      <th>Percentage Of Drivers Involved In Fatal Collisions Who Were Not Distracted</th>\n",
       "      <th>Percentage Of Drivers Involved In Fatal Collisions Who Had Not Been Involved In Any Previous Accidents</th>\n",
       "      <th>Car Insurance Premiums ($)</th>\n",
       "      <th>Losses incurred by insurance companies for collisions per insured driver ($)</th>\n",
       "    </tr>\n",
       "  </thead>\n",
       "  <tbody>\n",
       "    <tr>\n",
       "      <th>0</th>\n",
       "      <td>Alabama</td>\n",
       "      <td>18.8</td>\n",
       "      <td>39</td>\n",
       "      <td>30</td>\n",
       "      <td>96</td>\n",
       "      <td>80</td>\n",
       "      <td>784.55</td>\n",
       "      <td>145.08</td>\n",
       "    </tr>\n",
       "    <tr>\n",
       "      <th>1</th>\n",
       "      <td>Alaska</td>\n",
       "      <td>18.1</td>\n",
       "      <td>41</td>\n",
       "      <td>25</td>\n",
       "      <td>90</td>\n",
       "      <td>94</td>\n",
       "      <td>1053.48</td>\n",
       "      <td>133.93</td>\n",
       "    </tr>\n",
       "    <tr>\n",
       "      <th>2</th>\n",
       "      <td>Arizona</td>\n",
       "      <td>18.6</td>\n",
       "      <td>35</td>\n",
       "      <td>28</td>\n",
       "      <td>84</td>\n",
       "      <td>96</td>\n",
       "      <td>899.47</td>\n",
       "      <td>110.35</td>\n",
       "    </tr>\n",
       "    <tr>\n",
       "      <th>3</th>\n",
       "      <td>Arkansas</td>\n",
       "      <td>22.4</td>\n",
       "      <td>18</td>\n",
       "      <td>26</td>\n",
       "      <td>94</td>\n",
       "      <td>95</td>\n",
       "      <td>827.34</td>\n",
       "      <td>142.39</td>\n",
       "    </tr>\n",
       "    <tr>\n",
       "      <th>4</th>\n",
       "      <td>California</td>\n",
       "      <td>12.0</td>\n",
       "      <td>35</td>\n",
       "      <td>28</td>\n",
       "      <td>91</td>\n",
       "      <td>89</td>\n",
       "      <td>878.41</td>\n",
       "      <td>165.63</td>\n",
       "    </tr>\n",
       "  </tbody>\n",
       "</table>\n",
       "</div>"
      ],
      "text/plain": [
       "        State  \\\n",
       "0     Alabama   \n",
       "1      Alaska   \n",
       "2     Arizona   \n",
       "3    Arkansas   \n",
       "4  California   \n",
       "\n",
       "   Number of drivers involved in fatal collisions per billion miles  \\\n",
       "0                                               18.8                  \n",
       "1                                               18.1                  \n",
       "2                                               18.6                  \n",
       "3                                               22.4                  \n",
       "4                                               12.0                  \n",
       "\n",
       "   Percentage Of Drivers Involved In Fatal Collisions Who Were Speeding  \\\n",
       "0                                                 39                      \n",
       "1                                                 41                      \n",
       "2                                                 35                      \n",
       "3                                                 18                      \n",
       "4                                                 35                      \n",
       "\n",
       "   Percentage Of Drivers Involved In Fatal Collisions Who Were Alcohol-Impaired  \\\n",
       "0                                                 30                              \n",
       "1                                                 25                              \n",
       "2                                                 28                              \n",
       "3                                                 26                              \n",
       "4                                                 28                              \n",
       "\n",
       "   Percentage Of Drivers Involved In Fatal Collisions Who Were Not Distracted  \\\n",
       "0                                                 96                            \n",
       "1                                                 90                            \n",
       "2                                                 84                            \n",
       "3                                                 94                            \n",
       "4                                                 91                            \n",
       "\n",
       "   Percentage Of Drivers Involved In Fatal Collisions Who Had Not Been Involved In Any Previous Accidents  \\\n",
       "0                                                 80                                                        \n",
       "1                                                 94                                                        \n",
       "2                                                 96                                                        \n",
       "3                                                 95                                                        \n",
       "4                                                 89                                                        \n",
       "\n",
       "   Car Insurance Premiums ($)  \\\n",
       "0                      784.55   \n",
       "1                     1053.48   \n",
       "2                      899.47   \n",
       "3                      827.34   \n",
       "4                      878.41   \n",
       "\n",
       "   Losses incurred by insurance companies for collisions per insured driver ($)  \n",
       "0                                             145.08                             \n",
       "1                                             133.93                             \n",
       "2                                             110.35                             \n",
       "3                                             142.39                             \n",
       "4                                             165.63                             "
      ]
     },
     "execution_count": 4,
     "metadata": {},
     "output_type": "execute_result"
    }
   ],
   "source": [
    "df = pd.read_csv('bad-drivers.csv')\n",
    "print(df.shape)\n",
    "df.head()"
   ]
  },
  {
   "cell_type": "code",
   "execution_count": 5,
   "metadata": {},
   "outputs": [],
   "source": [
    "X = df.drop(['Car Insurance Premiums ($)'], axis=1)\n",
    "y = df['Car Insurance Premiums ($)']"
   ]
  },
  {
   "cell_type": "code",
   "execution_count": 6,
   "metadata": {},
   "outputs": [],
   "source": [
    "X_train, X_test, y_train, y_test = train_test_split(X, y, test_size=0.2, random_state=0)"
   ]
  },
  {
   "cell_type": "code",
   "execution_count": 7,
   "metadata": {},
   "outputs": [],
   "source": [
    "numeric_transformer = Pipeline(steps=[\n",
    "    ('imputer', SimpleImputer(strategy='median')),\n",
    "    ('scaler', StandardScaler()),\n",
    "    ('custom', CustomNumberTransformer())])"
   ]
  },
  {
   "cell_type": "code",
   "execution_count": 8,
   "metadata": {},
   "outputs": [],
   "source": [
    "categorical_transformer = Pipeline(steps=[\n",
    "    ('custom', CustomCategoricalTransformer()),\n",
    "    ('onehot', OneHotEncoder(handle_unknown='ignore'))\n",
    "])"
   ]
  },
  {
   "cell_type": "code",
   "execution_count": 9,
   "metadata": {},
   "outputs": [
    {
     "data": {
      "text/plain": [
       "Index(['Number of drivers involved in fatal collisions per billion miles',\n",
       "       'Percentage Of Drivers Involved In Fatal Collisions Who Were Speeding',\n",
       "       'Percentage Of Drivers Involved In Fatal Collisions Who Were Alcohol-Impaired',\n",
       "       'Percentage Of Drivers Involved In Fatal Collisions Who Were Not Distracted',\n",
       "       'Percentage Of Drivers Involved In Fatal Collisions Who Had Not Been Involved In Any Previous Accidents',\n",
       "       'Losses incurred by insurance companies for collisions per insured driver ($)'],\n",
       "      dtype='object')"
      ]
     },
     "execution_count": 9,
     "metadata": {},
     "output_type": "execute_result"
    }
   ],
   "source": [
    "numeric_features = X.select_dtypes(include=['int64', 'float64']).columns\n",
    "numeric_features"
   ]
  },
  {
   "cell_type": "code",
   "execution_count": 10,
   "metadata": {},
   "outputs": [
    {
     "data": {
      "text/plain": [
       "Index(['State'], dtype='object')"
      ]
     },
     "execution_count": 10,
     "metadata": {},
     "output_type": "execute_result"
    }
   ],
   "source": [
    "categorical_features = X.select_dtypes(include=['object']).columns\n",
    "categorical_features"
   ]
  },
  {
   "cell_type": "code",
   "execution_count": 11,
   "metadata": {
    "scrolled": true
   },
   "outputs": [
    {
     "data": {
      "text/plain": [
       "array([[100.80060642, 100.00258856, 100.51222861, 100.79862454,\n",
       "         99.56240503,  98.44162943],\n",
       "       [ 99.7631035 ,  98.13882279, 100.91795424, 100.4966871 ,\n",
       "        100.14586499,  99.1584751 ],\n",
       "       [ 99.57865853,  99.69196094, 100.71509142, 100.85901203,\n",
       "         98.97894506,  99.90527254],\n",
       "       [101.83810935,  99.17424822, 102.33799395, 100.85901203,\n",
       "         99.56240503,  98.95480307],\n",
       "       [100.06282657, 100.72738636,  99.90364016, 100.13436216,\n",
       "        101.45864991, 100.62251756],\n",
       "       [ 99.67088102,  99.38133331,  99.70077735, 100.61746208,\n",
       "        100.87518995,  98.92285452],\n",
       "       [ 99.25587985,  98.76007805,  99.29505172, 100.13436216,\n",
       "         99.85413501, 100.71197351],\n",
       "       [101.05421825, 100.41675873, 100.51222861,  99.28893732,\n",
       "        101.31278492, 102.35173302],\n",
       "       [101.81505373, 100.31321619,  99.49791453, 100.73823705,\n",
       "         99.70827002, 100.66564811],\n",
       "       [100.82366204,  98.96716314,  99.70077735,  99.83242472,\n",
       "         98.83308007, 100.78585454],\n",
       "       [ 99.94754846,  98.55299296,  98.88932609, 100.73823705,\n",
       "         99.70827002,  99.14449761],\n",
       "       [100.57005022,  98.76007805,  99.29505172,  98.92661238,\n",
       "        101.31278492,  99.39529375],\n",
       "       [ 98.91004554,  98.44945042,  99.49791453, 100.07397467,\n",
       "         98.39548509, 100.95677931],\n",
       "       [100.43171649,  99.58841839,  98.68646327,  99.53048727,\n",
       "         99.41654003,  99.91645453],\n",
       "       [100.80060642, 100.93447145, 101.52654269, 100.37591212,\n",
       "         99.70827002, 100.83617352],\n",
       "       [ 99.20976861, 100.31321619, 100.30936579,  99.16816234,\n",
       "        101.45864991, 102.26866678],\n",
       "       [100.33949401, 101.14155653, 100.30936579,  99.77203723,\n",
       "        100.14586499,  99.4468108 ],\n",
       "       [ 97.68809765, 100.31321619,  99.29505172, 100.91939952,\n",
       "        101.60451491, 100.00630984],\n",
       "       [ 99.27893547, 100.52030128, 100.71509142, 100.55707459,\n",
       "        101.02105494, 100.13011048],\n",
       "       [100.03977095, 101.24509908, 100.71509142, 100.43629961,\n",
       "         99.27067504, 100.34176965],\n",
       "       [ 99.46338043, 100.62384382,  99.49791453,  99.65126225,\n",
       "        100.87518995, 100.16046161],\n",
       "       [101.26171883,  98.76007805,  98.48360046,  99.59087476,\n",
       "         98.10375511, 100.04944039],\n",
       "       [ 99.27893547, 100.20967365,  99.0921889 ,  98.92661238,\n",
       "        100.14586499,  98.75073169],\n",
       "       [101.83810935, 100.72738636, 102.13513113, 100.67784957,\n",
       "         98.83308007,  99.21718057],\n",
       "       [100.50088336, 101.03801399,  98.88932609, 100.31552463,\n",
       "        100.72932496,  99.92164617],\n",
       "       [ 99.85532598, 100.52030128,  99.70077735, 100.01358719,\n",
       "        101.31278492,  97.87773746],\n",
       "       [100.52393898, 101.96989688, 100.10650298, 100.67784957,\n",
       "         99.85413501, 100.71756451],\n",
       "       [100.38560525,  98.34590788, 100.10650298,  95.4845255 ,\n",
       "        101.60451491, 100.79384168],\n",
       "       [ 98.81782306, 101.55572671, 101.12081705, 100.13436216,\n",
       "         98.97894506, 101.24311822],\n",
       "       [ 98.54115561,  99.17424822,  99.70077735, 100.19474965,\n",
       "         99.85413501,  99.89848347],\n",
       "       [100.91588453, 100.10613111,  99.70077735, 100.43629961,\n",
       "        100.72932496, 101.71595681],\n",
       "       [ 98.21837692,  99.17424822, 100.91795424, 100.13436216,\n",
       "         98.68721508,  99.98953685],\n",
       "       [ 99.80921474, 100.72738636,  99.90364016, 100.13436216,\n",
       "         99.27067504,  98.42964872],\n",
       "       [100.45477212,  98.96716314,  99.70077735, 100.43629961,\n",
       "        100.72932496, 100.33098701],\n",
       "       [ 98.88698992, 100.31321619, 101.52654269, 100.43629961,\n",
       "         98.54135009, 100.50670406],\n",
       "       [ 99.50949167, 100.52030128, 100.51222861,  97.23576268,\n",
       "         99.27067504,  98.83100243],\n",
       "       [101.49227504,  98.65653551,  99.0921889 , 100.55707459,\n",
       "        100.87518995, 100.25950213],\n",
       "       [100.6622727 , 100.83092891,  99.90364016, 100.67784957,\n",
       "         98.68721508, 100.36692914],\n",
       "       [ 98.77171182, 101.14155653, 100.51222861,  99.83242472,\n",
       "         99.56240503,  99.03068089],\n",
       "       [ 98.93310116, 101.24509908,  97.06356075, 100.19474965,\n",
       "        101.02105494,  98.94521851]])"
      ]
     },
     "execution_count": 11,
     "metadata": {},
     "output_type": "execute_result"
    }
   ],
   "source": [
    "q = numeric_transformer.fit_transform(X_train[numeric_features])\n",
    "q"
   ]
  },
  {
   "cell_type": "code",
   "execution_count": 12,
   "metadata": {
    "scrolled": true
   },
   "outputs": [
    {
     "name": "stderr",
     "output_type": "stream",
     "text": [
      "C:\\Users\\victor\\Anaconda3\\lib\\site-packages\\pandas\\core\\indexing.py:635: SettingWithCopyWarning: \n",
      "A value is trying to be set on a copy of a slice from a DataFrame.\n",
      "Try using .loc[row_indexer,col_indexer] = value instead\n",
      "\n",
      "See the caveats in the documentation: http://pandas.pydata.org/pandas-docs/stable/indexing.html#indexing-view-versus-copy\n",
      "  self.obj[item_labels[indexer[info_axis]]] = value\n"
     ]
    },
    {
     "data": {
      "text/plain": [
       "array([0., 0., 0., 0., 0., 0., 0., 0., 0., 0., 0., 0., 1., 0., 0., 0., 0.])"
      ]
     },
     "execution_count": 12,
     "metadata": {},
     "output_type": "execute_result"
    }
   ],
   "source": [
    "q = categorical_transformer.fit_transform(X_train[categorical_features])\n",
    "q.toarray()[0]"
   ]
  },
  {
   "cell_type": "code",
   "execution_count": 13,
   "metadata": {},
   "outputs": [
    {
     "data": {
      "text/plain": [
       "array([100.80060642, 100.00258856, 100.51222861, 100.79862454,\n",
       "        99.56240503,  98.44162943,   0.        ,   0.        ,\n",
       "         0.        ,   0.        ,   0.        ,   0.        ,\n",
       "         0.        ,   0.        ,   0.        ,   0.        ,\n",
       "         0.        ,   0.        ,   1.        ,   0.        ,\n",
       "         0.        ,   0.        ,   0.        ])"
      ]
     },
     "execution_count": 13,
     "metadata": {},
     "output_type": "execute_result"
    }
   ],
   "source": [
    "preprocessor = ColumnTransformer(transformers=[\n",
    "                                                ('num', numeric_transformer, numeric_features),\n",
    "                                                ('cat', categorical_transformer, categorical_features)\n",
    "                                              ]\n",
    "                                )\n",
    "q = preprocessor.fit_transform(X_train)\n",
    "q[0]"
   ]
  },
  {
   "cell_type": "code",
   "execution_count": 14,
   "metadata": {},
   "outputs": [],
   "source": [
    "rf = Pipeline(steps=[\n",
    "                     ('preprocessor', preprocessor),\n",
    "                     ('classifier', RandomForestRegressor())\n",
    "                    ])"
   ]
  },
  {
   "cell_type": "code",
   "execution_count": 15,
   "metadata": {
    "scrolled": false
   },
   "outputs": [
    {
     "name": "stderr",
     "output_type": "stream",
     "text": [
      "C:\\Users\\victor\\Anaconda3\\lib\\site-packages\\sklearn\\ensemble\\forest.py:245: FutureWarning: The default value of n_estimators will change from 10 in version 0.20 to 100 in 0.22.\n",
      "  \"10 in version 0.20 to 100 in 0.22.\", FutureWarning)\n"
     ]
    }
   ],
   "source": [
    "rf.fit(X_train, y_train);"
   ]
  },
  {
   "cell_type": "code",
   "execution_count": 16,
   "metadata": {},
   "outputs": [
    {
     "data": {
      "text/plain": [
       "array([ 786.553,  798.082,  973.727,  954.121,  777.589,  875.076,\n",
       "        744.781, 1128.363,  703.579, 1187.351,  748.905])"
      ]
     },
     "execution_count": 16,
     "metadata": {},
     "output_type": "execute_result"
    }
   ],
   "source": [
    "y_pred = rf.predict(X_test)\n",
    "y_pred"
   ]
  },
  {
   "cell_type": "code",
   "execution_count": 17,
   "metadata": {},
   "outputs": [
    {
     "data": {
      "text/plain": [
       "array([ 746.54,  861.18,  913.15, 1110.61,  899.47, 1029.87,  716.2 ,\n",
       "       1234.31,  816.21,  878.41,  708.24])"
      ]
     },
     "execution_count": 17,
     "metadata": {},
     "output_type": "execute_result"
    }
   ],
   "source": [
    "y_test.values"
   ]
  },
  {
   "cell_type": "code",
   "execution_count": 18,
   "metadata": {},
   "outputs": [],
   "source": [
    "param_grid = { \n",
    "    'classifier__n_estimators': [200, 500],\n",
    "    'classifier__max_features': ['auto', 'sqrt', 'log2'],\n",
    "    'classifier__max_depth' : [4,5,6,7,8]}"
   ]
  },
  {
   "cell_type": "code",
   "execution_count": 19,
   "metadata": {},
   "outputs": [
    {
     "name": "stderr",
     "output_type": "stream",
     "text": [
      "C:\\Users\\victor\\Anaconda3\\lib\\site-packages\\sklearn\\model_selection\\_split.py:1978: FutureWarning: The default value of cv will change from 3 to 5 in version 0.22. Specify it explicitly to silence this warning.\n",
      "  warnings.warn(CV_WARNING, FutureWarning)\n"
     ]
    },
    {
     "name": "stdout",
     "output_type": "stream",
     "text": [
      "{'classifier__max_depth': 8, 'classifier__max_features': 'sqrt', 'classifier__n_estimators': 200}\n",
      "0.25939753607766847\n"
     ]
    },
    {
     "name": "stderr",
     "output_type": "stream",
     "text": [
      "C:\\Users\\victor\\Anaconda3\\lib\\site-packages\\sklearn\\model_selection\\_search.py:813: DeprecationWarning: The default of the `iid` parameter will change from True to False in version 0.22 and will be removed in 0.24. This will change numeric results when test-set sizes are unequal.\n",
      "  DeprecationWarning)\n"
     ]
    }
   ],
   "source": [
    "CV = GridSearchCV(rf, param_grid, n_jobs= -2)\n",
    "                  \n",
    "CV.fit(X_train, y_train)  \n",
    "print(CV.best_params_)    \n",
    "print(CV.best_score_)"
   ]
  },
  {
   "cell_type": "markdown",
   "metadata": {},
   "source": [
    "# -------------------- TESTING -----------------------"
   ]
  },
  {
   "cell_type": "code",
   "execution_count": 20,
   "metadata": {},
   "outputs": [
    {
     "data": {
      "text/html": [
       "<div>\n",
       "<style scoped>\n",
       "    .dataframe tbody tr th:only-of-type {\n",
       "        vertical-align: middle;\n",
       "    }\n",
       "\n",
       "    .dataframe tbody tr th {\n",
       "        vertical-align: top;\n",
       "    }\n",
       "\n",
       "    .dataframe thead th {\n",
       "        text-align: right;\n",
       "    }\n",
       "</style>\n",
       "<table border=\"1\" class=\"dataframe\">\n",
       "  <thead>\n",
       "    <tr style=\"text-align: right;\">\n",
       "      <th></th>\n",
       "      <th>col_1</th>\n",
       "      <th>col_2</th>\n",
       "      <th>col_3</th>\n",
       "    </tr>\n",
       "  </thead>\n",
       "  <tbody>\n",
       "    <tr>\n",
       "      <th>0</th>\n",
       "      <td>1</td>\n",
       "      <td>a B</td>\n",
       "      <td>10</td>\n",
       "    </tr>\n",
       "    <tr>\n",
       "      <th>1</th>\n",
       "      <td>2</td>\n",
       "      <td>c D</td>\n",
       "      <td>11</td>\n",
       "    </tr>\n",
       "    <tr>\n",
       "      <th>2</th>\n",
       "      <td>3</td>\n",
       "      <td>e F</td>\n",
       "      <td>12</td>\n",
       "    </tr>\n",
       "    <tr>\n",
       "      <th>3</th>\n",
       "      <td>4</td>\n",
       "      <td>g H</td>\n",
       "      <td>13</td>\n",
       "    </tr>\n",
       "    <tr>\n",
       "      <th>4</th>\n",
       "      <td>5</td>\n",
       "      <td>i J</td>\n",
       "      <td>14</td>\n",
       "    </tr>\n",
       "  </tbody>\n",
       "</table>\n",
       "</div>"
      ],
      "text/plain": [
       "   col_1 col_2  col_3\n",
       "0      1   a B     10\n",
       "1      2   c D     11\n",
       "2      3   e F     12\n",
       "3      4   g H     13\n",
       "4      5   i J     14"
      ]
     },
     "execution_count": 20,
     "metadata": {},
     "output_type": "execute_result"
    }
   ],
   "source": [
    "df = pd.DataFrame({'col_1': [1,2,3,4,5], 'col_2': ['a B', 'c D', 'e F', 'g H', 'i J'], 'col_3': [10,11,12,13,14]})\n",
    "df"
   ]
  },
  {
   "cell_type": "code",
   "execution_count": null,
   "metadata": {},
   "outputs": [],
   "source": []
  },
  {
   "cell_type": "code",
   "execution_count": null,
   "metadata": {},
   "outputs": [],
   "source": []
  }
 ],
 "metadata": {
  "kernelspec": {
   "display_name": "Python 3",
   "language": "python",
   "name": "python3"
  },
  "language_info": {
   "codemirror_mode": {
    "name": "ipython",
    "version": 3
   },
   "file_extension": ".py",
   "mimetype": "text/x-python",
   "name": "python",
   "nbconvert_exporter": "python",
   "pygments_lexer": "ipython3",
   "version": "3.7.3"
  }
 },
 "nbformat": 4,
 "nbformat_minor": 2
}
