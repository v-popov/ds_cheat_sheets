{
 "cells": [
  {
   "cell_type": "code",
   "execution_count": 36,
   "metadata": {},
   "outputs": [],
   "source": [
    "from hyperopt import tpe, hp, fmin\n",
    "from xgboost import XGBRegressor\n",
    "from lightgbm import LGBMRegressor\n",
    "\n",
    "from sklearn.datasets import load_boston\n",
    "from sklearn.model_selection import train_test_split, cross_val_score\n",
    "from sklearn.metrics import mean_absolute_error as mae\n",
    "\n",
    "import numpy as np"
   ]
  },
  {
   "cell_type": "code",
   "execution_count": 2,
   "metadata": {},
   "outputs": [],
   "source": [
    "x, y = load_boston(return_X_y=True)"
   ]
  },
  {
   "cell_type": "code",
   "execution_count": 3,
   "metadata": {},
   "outputs": [],
   "source": [
    "x_train, x_test, y_train, y_test = train_test_split(x, y, test_size=0.2, random_state=0)"
   ]
  },
  {
   "cell_type": "code",
   "execution_count": 45,
   "metadata": {},
   "outputs": [],
   "source": [
    "# def custom_asymmetric_train(y_true, y_pred):\n",
    "#     residual = (y_true - y_pred).astype(\"float\")\n",
    "#     grad = np.where(residual>0, -2*100.0*residual, -2*residual)\n",
    "#     hess = np.where(residual>0, 2*100.0, 2.0)\n",
    "#     return grad, hess\n",
    "\n",
    "# def custom_asymmetric_valid(y_true, y_pred):\n",
    "#     residual = (y_true - y_pred).astype(\"float\")\n",
    "#     loss = np.where(residual > 0, (residual**2)*100.0, residual**2) \n",
    "#     return \"custom_asymmetric_eval\", np.mean(loss), False\n",
    "\n",
    "def custom_asymmetric_train(y_pred, train_data):\n",
    "    y_true = train_data.get_label()\n",
    "    residual = (y_true - y_pred).astype(\"float\")\n",
    "    grad = np.where(residual>0, -2*100.0*residual, -2*residual)\n",
    "    hess = np.where(residual>0, 2*100.0, 2.0)\n",
    "    return grad, hess\n",
    "\n",
    "def custom_asymmetric_valid(y_pred, train_data):\n",
    "    y_true = train_data.get_label()\n",
    "    residual = (y_true - y_pred).astype(\"float\")\n",
    "    loss = np.where(residual > 0, (residual**2)*100.0, residual**2) \n",
    "    return \"custom_asymmetric_eval\", np.mean(loss), False"
   ]
  },
  {
   "cell_type": "code",
   "execution_count": 15,
   "metadata": {},
   "outputs": [],
   "source": [
    "def objective_func(args):\n",
    "\n",
    "    estim = LGBMRegressor(\n",
    "                  colsample_bytree=args['colsample_bytree'],\n",
    "                  learning_rate=args['learning_rate'],\n",
    "                  subsample=args['subsample'],\n",
    "                  max_depth=int(args['max_depth']), # DON'T FORGET INT()\n",
    "                  n_estimators=int(args['n_estimators']), # DON'T FORGET INT()\n",
    "                  n_jobs=3,\n",
    "                  objective='mse', # custom_asymmetric_train\n",
    "                  metric='mse' # 'custom'\n",
    "    )\n",
    "    \n",
    "    estim.fit(\n",
    "        x_train,\n",
    "        y_train,\n",
    "        eval_set=[(x_test, y_test)],\n",
    "        eval_metric='mse', # custom_asymmetric_valid\n",
    "        verbose=False\n",
    "    )\n",
    "    \n",
    "    y_pred = estim.predict(x_test)\n",
    "    \n",
    "    #_, loss, _ = mse(y_test, y_pred) #custom_asymmetric_valid(y_test, y_pred)\n",
    "    loss = mse(y_test, y_pred).mean()\n",
    "    #print(loss)\n",
    "    \n",
    "    #cv_score = cross_val_score(estimator=estim, X=x_train, y=y_train, cv=5, scoring=custom_scorer).mean()\n",
    "    \n",
    "    \n",
    "    return loss"
   ]
  },
  {
   "cell_type": "code",
   "execution_count": 16,
   "metadata": {},
   "outputs": [],
   "source": [
    "space = {\n",
    "           'colsample_bytree' : hp.uniform('colsample_bytree', 0.2, 0.8),\n",
    "           'learning_rate' : hp.uniform('learning_rate', 0.001, 0.5),\n",
    "           'subsample' : hp.uniform('subsample', 0.2, 0.8),\n",
    "\n",
    "           'max_depth' : hp.quniform('max_depth', 2, 9, 1), # 1 stands for q\n",
    "           'n_estimators' : hp.quniform('n_estimators', 50, 500, 1)\n",
    "        }"
   ]
  },
  {
   "cell_type": "code",
   "execution_count": 17,
   "metadata": {
    "scrolled": true
   },
   "outputs": [
    {
     "name": "stdout",
     "output_type": "stream",
     "text": [
      "100%|██████████| 100/100 [00:04<00:00, 23.85it/s, best loss: 18.33216886900387]\n"
     ]
    }
   ],
   "source": [
    "best_classifier = fmin(objective_func,\n",
    "                       space,\n",
    "                       algo=tpe.suggest,\n",
    "                       max_evals=100, \n",
    "                       rstate=np.random.RandomState(0))"
   ]
  },
  {
   "cell_type": "code",
   "execution_count": 18,
   "metadata": {},
   "outputs": [
    {
     "data": {
      "text/plain": [
       "{'colsample_bytree': 0.7807716215471612,\n",
       " 'learning_rate': 0.18713591021572826,\n",
       " 'max_depth': 3.0,\n",
       " 'n_estimators': 177.0,\n",
       " 'subsample': 0.798759582135546}"
      ]
     },
     "execution_count": 18,
     "metadata": {},
     "output_type": "execute_result"
    }
   ],
   "source": [
    "best_classifier"
   ]
  },
  {
   "cell_type": "code",
   "execution_count": 19,
   "metadata": {},
   "outputs": [],
   "source": [
    "best_classifier['max_depth'] = int(best_classifier['max_depth'])\n",
    "best_classifier['n_estimators'] = int(best_classifier['n_estimators'])\n",
    "\n",
    "estim = LGBMRegressor(**best_classifier)"
   ]
  },
  {
   "cell_type": "code",
   "execution_count": null,
   "metadata": {},
   "outputs": [],
   "source": []
  },
  {
   "cell_type": "code",
   "execution_count": 69,
   "metadata": {},
   "outputs": [
    {
     "name": "stdout",
     "output_type": "stream",
     "text": [
      "[1]\tvalid_0's custom_asymmetric_eval: 57218.8\n",
      "[2]\tvalid_0's custom_asymmetric_eval: 56895\n",
      "[3]\tvalid_0's custom_asymmetric_eval: 56590.9\n",
      "[4]\tvalid_0's custom_asymmetric_eval: 56269.3\n",
      "[5]\tvalid_0's custom_asymmetric_eval: 55951.2\n",
      "[6]\tvalid_0's custom_asymmetric_eval: 55652.1\n",
      "[7]\tvalid_0's custom_asymmetric_eval: 55337\n",
      "[8]\tvalid_0's custom_asymmetric_eval: 55045.1\n",
      "[9]\tvalid_0's custom_asymmetric_eval: 54748.6\n",
      "[10]\tvalid_0's custom_asymmetric_eval: 54442\n",
      "[11]\tvalid_0's custom_asymmetric_eval: 54134.3\n",
      "[12]\tvalid_0's custom_asymmetric_eval: 53849.6\n",
      "[13]\tvalid_0's custom_asymmetric_eval: 53564.7\n",
      "[14]\tvalid_0's custom_asymmetric_eval: 53287\n",
      "[15]\tvalid_0's custom_asymmetric_eval: 53017.6\n",
      "[16]\tvalid_0's custom_asymmetric_eval: 52749.8\n",
      "[17]\tvalid_0's custom_asymmetric_eval: 52460.9\n",
      "[18]\tvalid_0's custom_asymmetric_eval: 52183.2\n",
      "[19]\tvalid_0's custom_asymmetric_eval: 51905.5\n",
      "[20]\tvalid_0's custom_asymmetric_eval: 51622.6\n",
      "[21]\tvalid_0's custom_asymmetric_eval: 51340.4\n",
      "[22]\tvalid_0's custom_asymmetric_eval: 51063.8\n",
      "[23]\tvalid_0's custom_asymmetric_eval: 50787.1\n",
      "[24]\tvalid_0's custom_asymmetric_eval: 50504.6\n",
      "[25]\tvalid_0's custom_asymmetric_eval: 50236.7\n",
      "[26]\tvalid_0's custom_asymmetric_eval: 49962\n",
      "[27]\tvalid_0's custom_asymmetric_eval: 49699.8\n",
      "[28]\tvalid_0's custom_asymmetric_eval: 49450.8\n",
      "[29]\tvalid_0's custom_asymmetric_eval: 49189.3\n",
      "[30]\tvalid_0's custom_asymmetric_eval: 48929.1\n",
      "[31]\tvalid_0's custom_asymmetric_eval: 48673\n",
      "[32]\tvalid_0's custom_asymmetric_eval: 48407.8\n",
      "[33]\tvalid_0's custom_asymmetric_eval: 48144.9\n",
      "[34]\tvalid_0's custom_asymmetric_eval: 47875.5\n",
      "[35]\tvalid_0's custom_asymmetric_eval: 47609.2\n",
      "[36]\tvalid_0's custom_asymmetric_eval: 47359.2\n",
      "[37]\tvalid_0's custom_asymmetric_eval: 47112.2\n",
      "[38]\tvalid_0's custom_asymmetric_eval: 46864.9\n",
      "[39]\tvalid_0's custom_asymmetric_eval: 46620.7\n",
      "[40]\tvalid_0's custom_asymmetric_eval: 46368.3\n",
      "[41]\tvalid_0's custom_asymmetric_eval: 46109\n",
      "[42]\tvalid_0's custom_asymmetric_eval: 45861.6\n",
      "[43]\tvalid_0's custom_asymmetric_eval: 45618.4\n",
      "[44]\tvalid_0's custom_asymmetric_eval: 45373.8\n",
      "[45]\tvalid_0's custom_asymmetric_eval: 45136.7\n",
      "[46]\tvalid_0's custom_asymmetric_eval: 44913.5\n",
      "[47]\tvalid_0's custom_asymmetric_eval: 44669.9\n",
      "[48]\tvalid_0's custom_asymmetric_eval: 44436.2\n",
      "[49]\tvalid_0's custom_asymmetric_eval: 44213.1\n",
      "[50]\tvalid_0's custom_asymmetric_eval: 43967.6\n",
      "[51]\tvalid_0's custom_asymmetric_eval: 43738.7\n",
      "[52]\tvalid_0's custom_asymmetric_eval: 43511.2\n",
      "[53]\tvalid_0's custom_asymmetric_eval: 43286.5\n",
      "[54]\tvalid_0's custom_asymmetric_eval: 43065.2\n",
      "[55]\tvalid_0's custom_asymmetric_eval: 42828.2\n",
      "[56]\tvalid_0's custom_asymmetric_eval: 42594.2\n",
      "[57]\tvalid_0's custom_asymmetric_eval: 42377.1\n",
      "[58]\tvalid_0's custom_asymmetric_eval: 42159.1\n",
      "[59]\tvalid_0's custom_asymmetric_eval: 41928.2\n",
      "[60]\tvalid_0's custom_asymmetric_eval: 41707\n",
      "[61]\tvalid_0's custom_asymmetric_eval: 41478.2\n",
      "[62]\tvalid_0's custom_asymmetric_eval: 41261.2\n",
      "[63]\tvalid_0's custom_asymmetric_eval: 41042.1\n",
      "[64]\tvalid_0's custom_asymmetric_eval: 40831.5\n",
      "[65]\tvalid_0's custom_asymmetric_eval: 40606.7\n",
      "[66]\tvalid_0's custom_asymmetric_eval: 40382.6\n",
      "[67]\tvalid_0's custom_asymmetric_eval: 40173.8\n",
      "[68]\tvalid_0's custom_asymmetric_eval: 39959.7\n",
      "[69]\tvalid_0's custom_asymmetric_eval: 39755.6\n",
      "[70]\tvalid_0's custom_asymmetric_eval: 39538.1\n",
      "[71]\tvalid_0's custom_asymmetric_eval: 39322.4\n",
      "[72]\tvalid_0's custom_asymmetric_eval: 39114.6\n",
      "[73]\tvalid_0's custom_asymmetric_eval: 38914.7\n",
      "[74]\tvalid_0's custom_asymmetric_eval: 38708.5\n",
      "[75]\tvalid_0's custom_asymmetric_eval: 38511.7\n",
      "[76]\tvalid_0's custom_asymmetric_eval: 38302.2\n",
      "[77]\tvalid_0's custom_asymmetric_eval: 38106.5\n",
      "[78]\tvalid_0's custom_asymmetric_eval: 37898.8\n",
      "[79]\tvalid_0's custom_asymmetric_eval: 37691.2\n",
      "[80]\tvalid_0's custom_asymmetric_eval: 37484.8\n",
      "[81]\tvalid_0's custom_asymmetric_eval: 37288.5\n",
      "[82]\tvalid_0's custom_asymmetric_eval: 37092.7\n",
      "[83]\tvalid_0's custom_asymmetric_eval: 36902.9\n",
      "[84]\tvalid_0's custom_asymmetric_eval: 36717.9\n",
      "[85]\tvalid_0's custom_asymmetric_eval: 36533.4\n",
      "[86]\tvalid_0's custom_asymmetric_eval: 36336.4\n",
      "[87]\tvalid_0's custom_asymmetric_eval: 36146.1\n",
      "[88]\tvalid_0's custom_asymmetric_eval: 35961.3\n",
      "[89]\tvalid_0's custom_asymmetric_eval: 35774.8\n",
      "[90]\tvalid_0's custom_asymmetric_eval: 35580.1\n",
      "[91]\tvalid_0's custom_asymmetric_eval: 35394.6\n",
      "[92]\tvalid_0's custom_asymmetric_eval: 35216.1\n",
      "[93]\tvalid_0's custom_asymmetric_eval: 35033\n",
      "[94]\tvalid_0's custom_asymmetric_eval: 34845.5\n",
      "[95]\tvalid_0's custom_asymmetric_eval: 34667.8\n",
      "[96]\tvalid_0's custom_asymmetric_eval: 34499.9\n",
      "[97]\tvalid_0's custom_asymmetric_eval: 34313.5\n",
      "[98]\tvalid_0's custom_asymmetric_eval: 34139.5\n",
      "[99]\tvalid_0's custom_asymmetric_eval: 33966.8\n",
      "[100]\tvalid_0's custom_asymmetric_eval: 33792.1\n"
     ]
    }
   ],
   "source": [
    "import lightgbm as lgb\n",
    "\n",
    "d_train = lgb.Dataset(x_train, label=y_train)\n",
    "d_test = lgb.Dataset(x_test, label=y_test)\n",
    "\n",
    "params = {}\n",
    "params['learning_rate'] = 0.003\n",
    "params['boosting_type'] = 'gbdt'\n",
    "params['objective'] = 'regression'\n",
    "params['metric'] = 'custom'#'mae'#\n",
    "params['sub_feature'] = 0.5\n",
    "params['num_leaves'] = 10\n",
    "params['min_data'] = 50\n",
    "params['max_depth'] = 10\n",
    "\n",
    "\n",
    "estim = lgb.train(params=params, \n",
    "                  train_set=d_train, \n",
    "                  valid_sets=d_test,\n",
    "                  num_boost_round=100,\n",
    "                  fobj=custom_asymmetric_train,\n",
    "                  feval=custom_asymmetric_valid\n",
    "                 )"
   ]
  },
  {
   "cell_type": "code",
   "execution_count": 70,
   "metadata": {},
   "outputs": [],
   "source": [
    "y_train_pred = estim.predict(x_train)\n",
    "y_test_pred = estim.predict(x_test)"
   ]
  },
  {
   "cell_type": "code",
   "execution_count": 71,
   "metadata": {},
   "outputs": [
    {
     "name": "stdout",
     "output_type": "stream",
     "text": [
      "Train Data:\n",
      "Positive Residuals:\t 0.7671655120761167\n",
      "Negative Residuals:\t -0.8304369989003749\n",
      "\n",
      "Test Data:\n",
      "Positive Residuals:\t 3.2865039340325577\n",
      "Negative Residuals:\t -2.164366440765035\n"
     ]
    }
   ],
   "source": [
    "residuals_train = y_train - y_train_preds\n",
    "residuals_test = y_test - y_test_preds\n",
    "\n",
    "print('Train Data:')\n",
    "print('Positive Residuals:\\t', np.mean(residuals_train[np.where(residuals_train > 0)]))\n",
    "print('Negative Residuals:\\t', np.mean(residuals_train[np.where(residuals_train < 0)]))\n",
    "\n",
    "print('\\nTest Data:')\n",
    "print('Positive Residuals:\\t', np.mean(residuals_test[np.where(residuals_test > 0)]))\n",
    "print('Negative Residuals:\\t', np.mean(residuals_test[np.where(residuals_test < 0)]))"
   ]
  },
  {
   "cell_type": "code",
   "execution_count": 72,
   "metadata": {},
   "outputs": [
    {
     "name": "stdout",
     "output_type": "stream",
     "text": [
      "MAE train/test\n",
      "0.7975483547590526\n",
      "2.6484257515863194\n"
     ]
    }
   ],
   "source": [
    "print('MAE train/test')\n",
    "print(mae(y_train, y_train_preds))\n",
    "print(mae(y_test, y_test_preds))"
   ]
  },
  {
   "cell_type": "code",
   "execution_count": 73,
   "metadata": {},
   "outputs": [
    {
     "name": "stdout",
     "output_type": "stream",
     "text": [
      "Custom train/test\n",
      "('custom_asymmetric_eval', 57.37265266205813, False)\n",
      "('custom_asymmetric_eval', 1346.8799423891437, False)\n"
     ]
    }
   ],
   "source": [
    "print('Custom train/test')\n",
    "print(custom_asymmetric_valid(y_train_preds, d_train))\n",
    "print(custom_asymmetric_valid(y_test_preds, d_test))"
   ]
  },
  {
   "cell_type": "code",
   "execution_count": null,
   "metadata": {},
   "outputs": [],
   "source": [
    "# estim = LGBMRegressor(\n",
    "#               colsample_bytree=args['colsample_bytree'],\n",
    "#               learning_rate=args['learning_rate'],\n",
    "#               subsample=args['subsample'],\n",
    "#               max_depth=int(args['max_depth']), # DON'T FORGET INT()\n",
    "#               n_estimators=int(args['n_estimators']), # DON'T FORGET INT()\n",
    "#               n_jobs=3,\n",
    "#               objective='mse', # custom_asymmetric_train\n",
    "#               metric='mse' # 'custom'\n",
    "# )\n",
    "    \n",
    "# estim.fit(\n",
    "#     x_train,\n",
    "#     y_train,\n",
    "#     eval_set=[(x_test, y_test)],\n",
    "#     eval_metric='mse', # custom_asymmetric_valid\n",
    "#     verbose=False\n",
    "# )"
   ]
  },
  {
   "cell_type": "code",
   "execution_count": 20,
   "metadata": {},
   "outputs": [
    {
     "name": "stdout",
     "output_type": "stream",
     "text": [
      "Train Data:\n",
      "Positive Residuals:\t 0.7671655120761167\n",
      "Negative Residuals:\t -0.8304369989003749\n",
      "\n",
      "Test Data:\n",
      "Positive Residuals:\t 3.2865039340325577\n",
      "Negative Residuals:\t -2.164366440765035\n"
     ]
    }
   ],
   "source": [
    "estim.fit(x_train,y_train)\n",
    "\n",
    "y_train_preds = estim.predict(x_train)\n",
    "y_test_preds = estim.predict(x_test)\n",
    "\n",
    "residuals_train = y_train - y_train_preds\n",
    "residuals_test = y_test - y_test_preds\n",
    "\n",
    "print('Train Data:')\n",
    "print('Positive Residuals:\\t', np.mean(residuals_train[np.where(residuals_train > 0)]))\n",
    "print('Negative Residuals:\\t', np.mean(residuals_train[np.where(residuals_train < 0)]))\n",
    "\n",
    "print('\\nTest Data:')\n",
    "print('Positive Residuals:\\t', np.mean(residuals_test[np.where(residuals_test > 0)]))\n",
    "print('Negative Residuals:\\t', np.mean(residuals_test[np.where(residuals_test < 0)]))"
   ]
  },
  {
   "cell_type": "code",
   "execution_count": 23,
   "metadata": {},
   "outputs": [
    {
     "data": {
      "text/plain": [
       "1.164886390567861"
      ]
     },
     "execution_count": 23,
     "metadata": {},
     "output_type": "execute_result"
    }
   ],
   "source": [
    "mse(y_train, y_train_preds)"
   ]
  },
  {
   "cell_type": "code",
   "execution_count": 25,
   "metadata": {},
   "outputs": [
    {
     "data": {
      "text/plain": [
       "18.33216886900387"
      ]
     },
     "execution_count": 25,
     "metadata": {},
     "output_type": "execute_result"
    }
   ],
   "source": [
    "mse(y_test, y_test_preds)"
   ]
  },
  {
   "cell_type": "code",
   "execution_count": 21,
   "metadata": {},
   "outputs": [
    {
     "data": {
      "text/plain": [
       "('custom_asymmetric_eval', 57.37265266205813, False)"
      ]
     },
     "execution_count": 21,
     "metadata": {},
     "output_type": "execute_result"
    }
   ],
   "source": [
    "custom_asymmetric_valid(y_train, y_train_preds)"
   ]
  },
  {
   "cell_type": "code",
   "execution_count": 22,
   "metadata": {},
   "outputs": [
    {
     "data": {
      "text/plain": [
       "('custom_asymmetric_eval', 1346.8799423891437, False)"
      ]
     },
     "execution_count": 22,
     "metadata": {},
     "output_type": "execute_result"
    }
   ],
   "source": [
    "custom_asymmetric_valid(y_test, y_test_preds)"
   ]
  },
  {
   "cell_type": "code",
   "execution_count": 13,
   "metadata": {},
   "outputs": [
    {
     "ename": "SyntaxError",
     "evalue": "invalid syntax (<ipython-input-13-17b09d3b27d0>, line 1)",
     "output_type": "error",
     "traceback": [
      "\u001b[1;36m  File \u001b[1;32m\"<ipython-input-13-17b09d3b27d0>\"\u001b[1;36m, line \u001b[1;32m1\u001b[0m\n\u001b[1;33m    As you can see, negative residuals are closer to zero, than positive residuals\u001b[0m\n\u001b[1;37m         ^\u001b[0m\n\u001b[1;31mSyntaxError\u001b[0m\u001b[1;31m:\u001b[0m invalid syntax\n"
     ]
    }
   ],
   "source": [
    "As you can see, negative residuals are closer to zero, than positive residuals\n",
    "\n",
    "# compare with mse!!!"
   ]
  }
 ],
 "metadata": {
  "kernelspec": {
   "display_name": "Python 3",
   "language": "python",
   "name": "python3"
  },
  "language_info": {
   "codemirror_mode": {
    "name": "ipython",
    "version": 3
   },
   "file_extension": ".py",
   "mimetype": "text/x-python",
   "name": "python",
   "nbconvert_exporter": "python",
   "pygments_lexer": "ipython3",
   "version": "3.7.1"
  }
 },
 "nbformat": 4,
 "nbformat_minor": 2
}
