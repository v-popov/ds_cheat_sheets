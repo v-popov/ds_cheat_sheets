{
 "cells": [
  {
   "cell_type": "code",
   "execution_count": null,
   "metadata": {},
   "outputs": [],
   "source": [
    "def euclidean_distance(x1,x2):\n",
    "    return np.sqrt(np.sum((x1 - x2)**2))\n",
    "\n",
    "class KMeans:\n",
    "    \n",
    "    def __init__(self, K=5, max_iters=100):\n",
    "        self.K = K\n",
    "        self.max_iters = max_iters\n",
    "\n",
    "        #list of samples indices for each cluster\n",
    "        self.clusters = [[] for _ in range(self.K)]\n",
    "\n",
    "        #mean feature vector for each cluster\n",
    "        self.centroids = []\n",
    "\n",
    "        \n",
    "    def predict(self, X):\n",
    "        self.X = X\n",
    "        self.n_samples, self.n_features = X.shape\n",
    "\n",
    "        #initialize centroids\n",
    "        random_sample_idxs = np.random.choice(self.n_samples, self.K, replace = False)\n",
    "        self.centroids = [self.X[idx] for idx in random_sample_idxs]\n",
    "\n",
    "        #optimization\n",
    "        for _ in range(self.max_iters):\n",
    "            #update clusters\n",
    "            self.clusters = self._create_clusters(self.centroids)\n",
    "\n",
    "            #update centroids\n",
    "            centroids_old = self.centroids\n",
    "            self.centroids = self._get_centroids(self.clusters)\n",
    "\n",
    "\n",
    "            #check if converged\n",
    "            if self._is_converged(centroids_old, self.centroids):\n",
    "                break\n",
    " \n",
    "    #return cluster labels\n",
    "    return self._get_cluster_labels(self.clusters)\n",
    "\n",
    "\n",
    "  def _get_cluster_labels(self, clusters):\n",
    "    labels = np.empty(self.n_samples)\n",
    "    for cluster_idx, cluster in enumerate(clusters):\n",
    "      for sample_idx in cluster:\n",
    "        labels[sample_idx] = cluster_idx\n",
    "    return labels\n",
    "\n",
    "\n",
    "  def _create_clusters(self, centroids):\n",
    "    clusters = [[] for _ in range(self.K)]\n",
    "    for idx, sample in enumerate(self.X):\n",
    "      centroid_idx = self._closest_centroid(sample, centroids)\n",
    "      clusters[centroid_idx].append(idx)\n",
    "    return clusters\n",
    "\n",
    "\n",
    "  def _closest_centroid(self, sample, centroids):\n",
    "    distances = [euclidean_distance(sample,point) for point in centroids]\n",
    "    closest_idx = np.argmin(distances)\n",
    "    return closest_idx\n",
    "  \n",
    "    \n",
    "  def _get_centroids(self, clusters):\n",
    "    centroids = np.zeros((self.K, self.n_features))\n",
    "    for cluster_idx, cluster in enumerate(clusters):\n",
    "      cluster_mean = np.mean(self.X[cluster], axis=0)\n",
    "      centroids[cluster_idx] = cluster_mean\n",
    "    return centroids\n",
    "  \n",
    "    \n",
    "  def _is_converged(self, centroids_old, centroids):\n",
    "    distances = [euclidean_distance(centroids_old[i], centroids[i]) for i in range(self.K)]\n",
    "    return sum(distances) == 0"
   ]
  },
  {
   "cell_type": "code",
   "execution_count": 28,
   "metadata": {},
   "outputs": [],
   "source": [
    "import numpy as np\n",
    "\n",
    "def euclidean_distance(x1, x2):\n",
    "    return np.sqrt(np.sum((x1 - x2)**2))\n",
    "\n",
    "class KMeans:\n",
    "    \n",
    "    def __init__(self, k=5, tol=0.0001, max_iter=300):\n",
    "        self.k = k\n",
    "        self.tol = tol # for detecting convergence\n",
    "        self.max_iter = max_iter # stopping criterion if not converged\n",
    "        \n",
    "        self.n_samples = None # ?\n",
    "        self.n_features = None # ?\n",
    "        \n",
    "        # centroids' coordinates\n",
    "        self.centroids = []\n",
    "        \n",
    "        #list of samples endices for each cluster\n",
    "        self.assignments = [[] for _ in range(self.k)]\n",
    "        \n",
    "        \n",
    "    def fit(self, X):\n",
    "        self.n_samples, self.n_features = X.shape\n",
    "        \n",
    "        # initialize centroids\n",
    "        random_samples_inds = np.random.choice(self.n_samples, self.k, replace=False)\n",
    "        self.centroids = [X[ind] for ind in random_samples_inds]\n",
    "        \n",
    "        # optimization\n",
    "        iteration = 0\n",
    "        while iteration < self.max_iter:\n",
    "            self.assignments = self._assign_to_clusters(X)\n",
    "            \n",
    "            # update centroids\n",
    "            centroids_old = self.centroids\n",
    "            self.centroids = self._compute_centroids()\n",
    "            \n",
    "            if self._is_converged(centroids_old, self.centroids):\n",
    "                iteration = self.max_iter\n",
    "            else:\n",
    "                iteration += 1\n",
    "                \n",
    "                \n",
    "    def predict(self, X):\n",
    "        clusters = []\n",
    "        for sample in X:\n",
    "            clusters.append(self._get_closest_centroid_ind(sample))\n",
    "        return clusters\n",
    "            \n",
    "            \n",
    "    def _assign_to_clusters(self, X):\n",
    "        assignments = [[] for _ in range(self.k)]\n",
    "        for ind, sample in enumerate(X):\n",
    "            closest_centroid_ind = self._get_closest_centroid_ind(sample)\n",
    "            assignments[closest_centroid_ind].append(sample)\n",
    "        return assignments\n",
    "        \n",
    "        \n",
    "    def _get_closest_centroid_ind(self, sample):\n",
    "        distances = [euclidean_distance(sample, centroid) for centroid in self.centroids]\n",
    "        closest_centroid_ind = np.argmin(distances)\n",
    "        return closest_centroid_ind\n",
    "    \n",
    "    \n",
    "    def _compute_centroids(self):\n",
    "        centroids = np.zeros((self.k, self.n_features))\n",
    "        for cluster_id, assignment in enumerate(self.assignments):\n",
    "            centroids[cluster_id] = np.mean(assignment, axis=0)\n",
    "        return centroids\n",
    "    \n",
    "    \n",
    "    def _is_converged(self, centroids_old, centroids_new):\n",
    "        for cluster_id in range(self.k):\n",
    "            distance = euclidean_distance(centroids_old[cluster_id], \n",
    "                                          centroids_new[cluster_id])\n",
    "            if distance > self.tol:\n",
    "                return False\n",
    "        return True"
   ]
  },
  {
   "cell_type": "code",
   "execution_count": 29,
   "metadata": {},
   "outputs": [],
   "source": [
    "import numpy as np\n",
    "from sklearn.datasets import make_blobs\n",
    "from sklearn import datasets\n",
    "import matplotlib.pyplot as plt\n",
    "\n",
    "X, y = make_blobs(centers=3, n_samples=500, n_features=2, shuffle=True, random_state=40)"
   ]
  },
  {
   "cell_type": "code",
   "execution_count": 30,
   "metadata": {},
   "outputs": [
    {
     "data": {
      "image/png": "[encoded data removed]",
      "text/plain": [
       "<Figure size 432x288 with 1 Axes>"
      ]
     },
     "metadata": {},
     "output_type": "display_data"
    }
   ],
   "source": [
    "import matplotlib.pyplot as plt\n",
    "from matplotlib import style\n",
    "style.use('ggplot')\n",
    "import numpy as np\n",
    "\n",
    "X = np.array([[1, 2],\n",
    "              [1.5, 1.8],\n",
    "              [5, 8 ],\n",
    "              [8, 8],\n",
    "              [1, 0.6],\n",
    "              [9,11]])\n",
    "\n",
    "plt.scatter(X[:,0], X[:,1], s=150)\n",
    "plt.show()"
   ]
  },
  {
   "cell_type": "code",
   "execution_count": 31,
   "metadata": {},
   "outputs": [],
   "source": [
    "kmeans = KMeans(k=2)"
   ]
  },
  {
   "cell_type": "code",
   "execution_count": 32,
   "metadata": {},
   "outputs": [],
   "source": [
    "kmeans.fit(X)"
   ]
  },
  {
   "cell_type": "code",
   "execution_count": 33,
   "metadata": {},
   "outputs": [
    {
     "data": {
      "text/plain": [
       "array([[1.16666667, 1.46666667],\n",
       "       [7.33333333, 9.        ]])"
      ]
     },
     "execution_count": 33,
     "metadata": {},
     "output_type": "execute_result"
    }
   ],
   "source": [
    "kmeans.centroids"
   ]
  },
  {
   "cell_type": "code",
   "execution_count": 34,
   "metadata": {},
   "outputs": [],
   "source": [
    "clusters = kmeans.predict(X)"
   ]
  },
  {
   "cell_type": "code",
   "execution_count": 35,
   "metadata": {},
   "outputs": [
    {
     "data": {
      "text/plain": [
       "[0, 0, 1, 1, 0, 1]"
      ]
     },
     "execution_count": 35,
     "metadata": {},
     "output_type": "execute_result"
    }
   ],
   "source": [
    "clusters"
   ]
  },
  {
   "cell_type": "code",
   "execution_count": null,
   "metadata": {},
   "outputs": [],
   "source": []
  }
 ],
 "metadata": {
  "kernelspec": {
   "display_name": "Python 3",
   "language": "python",
   "name": "python3"
  },
  "language_info": {
   "codemirror_mode": {
    "name": "ipython",
    "version": 3
   },
   "file_extension": ".py",
   "mimetype": "text/x-python",
   "name": "python",
   "nbconvert_exporter": "python",
   "pygments_lexer": "ipython3",
   "version": "3.7.6"
  }
 },
 "nbformat": 4,
 "nbformat_minor": 4
}
