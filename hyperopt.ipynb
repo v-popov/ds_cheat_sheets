{
 "cells": [
  {
   "cell_type": "code",
   "execution_count": 1,
   "metadata": {},
   "outputs": [],
   "source": [
    "# pip install hyperopt\n",
    "from hyperopt import tpe, hp, fmin\n",
    "\n",
    "# tpe -> algorithm \n",
    "# hp -> search space\n",
    "# fmin -> minimize the equation"
   ]
  },
  {
   "cell_type": "code",
   "execution_count": 2,
   "metadata": {},
   "outputs": [],
   "source": [
    "from sklearn import datasets\n",
    "\n",
    "from sklearn.svm import SVC\n",
    "from sklearn.neighbors import KNeighborsClassifier\n",
    "from xgboost import XGBClassifier\n",
    "\n",
    "from sklearn.model_selection import train_test_split, cross_val_score\n",
    "from sklearn.metrics import mean_squared_error"
   ]
  },
  {
   "cell_type": "code",
   "execution_count": 3,
   "metadata": {},
   "outputs": [],
   "source": [
    "iris = datasets.load_iris()\n",
    "x = iris.data\n",
    "y = iris.target"
   ]
  },
  {
   "cell_type": "code",
   "execution_count": 4,
   "metadata": {},
   "outputs": [],
   "source": [
    "x_train, x_test, y_train, y_test = train_test_split(x, y, test_size=0.2)"
   ]
  },
  {
   "cell_type": "code",
   "execution_count": 5,
   "metadata": {},
   "outputs": [],
   "source": [
    "def init_estimator(args):\n",
    "    if args['model']==KNeighborsClassifier:\n",
    "        estim = KNeighborsClassifier(\n",
    "                                n_neighbors=args['param']['n_neighbors'],\n",
    "                                algorithm=args['param']['algorithm'],\n",
    "                                leaf_size=args['param']['leaf_size'],\n",
    "                                metric=args['param']['metric']\n",
    "        )\n",
    "\n",
    "    elif args['model']==SVC:\n",
    "        estim = SVC(\n",
    "                C=args['param']['C'], \n",
    "                kernel=args['param']['kernel'], \n",
    "                degree=args['param']['degree'],\n",
    "                gamma=args['param']['gamma']\n",
    "        )\n",
    "\n",
    "    elif args['model']==XGBClassifier:\n",
    "        estim = XGBClassifier(\n",
    "                      colsample_bytree=args['param']['colsample_bytree'],\n",
    "                      gamma=args['param']['gamma'],\n",
    "                      learning_rate=args['param']['learning_rate'],\n",
    "                      subsample=args['param']['subsample'],\n",
    "                      max_depth=int(args['param']['max_depth']), # DON'T FORGET INT()\n",
    "                      n_estimators=int(args['param']['n_estimators']), # DON'T FORGET INT()\n",
    "        )\n",
    "        \n",
    "    return estim"
   ]
  },
  {
   "cell_type": "code",
   "execution_count": 6,
   "metadata": {},
   "outputs": [],
   "source": [
    "def objective_func(args):\n",
    "    estim = init_estimator(args)\n",
    "    \n",
    "    estim.fit(x_train,y_train)\n",
    "    \n",
    "    y_pred_train = estim.predict(x_train)\n",
    "    \n",
    "    cv_score = cross_val_score(estimator=estim, X=x_train, y=y_train, cv=5,\n",
    "                               #scoring='accuracy', # without it -> standard classifier's scoring\n",
    "                               ).mean()\n",
    "    \n",
    "    loss = cv_score\n",
    "\n",
    "    print(args['model'])\n",
    "    print('{}{:.3f}'.format('Train Score:\\t', estim.score(x_train,y_train)))\n",
    "    print('{}{:.3f}'.format('CV Score:\\t', cv_score))\n",
    "    print('{}{:.3f}'.format('Test Score:\\t', estim.score(x_test,y_test)))\n",
    "    print('='*10)\n",
    "    \n",
    "    return loss"
   ]
  },
  {
   "cell_type": "code",
   "execution_count": 7,
   "metadata": {},
   "outputs": [],
   "source": [
    "space = hp.choice('classifier', # This is the Label followeed by list of estimators\n",
    "        [\n",
    "            {'model': KNeighborsClassifier,\n",
    "             'param': {\n",
    "                       'n_neighbors' : hp.choice('n_neighbors_KNN', range(3,11)),\n",
    "                       'algorithm'   : hp.choice('algorithm_KNN', ['ball_tree', 'kd_tree']),\n",
    "                       'leaf_size'   : hp.choice('leaf_size_KNN', range(1,50)),\n",
    "                       'metric'      : hp.choice('metric_KNN', ['euclidean', 'manhattan', 'chebyshev', 'minkowski'])\n",
    "                      }\n",
    "            },\n",
    "\n",
    "            {'model': SVC,\n",
    "             'param': {\n",
    "                       'C'      : hp.lognormal('C_SVC', 0,1),\n",
    "                       'kernel' : hp.choice('kernel_SVC', ['rbf', 'poly', 'rbf', 'sigmoid']),\n",
    "                       'degree' : hp.choice('degree_SVC', range(1,15)),\n",
    "                       'gamma'  : hp.uniform('gamma_SVC', 0.001,10000)\n",
    "                      }\n",
    "            },\n",
    "            \n",
    "            {'model': XGBClassifier,\n",
    "             'param': {\n",
    "                       'colsample_bytree' : hp.uniform('colsample_bytree_XGB', 0.3, 0.7),\n",
    "                       'gamma' : hp.uniform('gamma_XGB', 0, 0.7), \n",
    "                       'learning_rate' : hp.uniform('learning_rate_XGB', 0.01, 0.5),\n",
    "                       'subsample' : hp.uniform('subsample_XGB', 0.3, 0.7),\n",
    "                       \n",
    "                       'max_depth' : hp.quniform('max_depth_XGB', 2, 6, 1), # 1 stands for q\n",
    "                       'n_estimators' : hp.quniform('n_estimators_XGB', 50, 150, 1)\n",
    "                      }\n",
    "            }\n",
    "        ])\n",
    "# Labels should have unique names (e.g. if we put simply 'gamma' in both SVC and XGB ->)"
   ]
  },
  {
   "cell_type": "code",
   "execution_count": 8,
   "metadata": {},
   "outputs": [
    {
     "name": "stdout",
     "output_type": "stream",
     "text": [
      "<class 'sklearn.svm.classes.SVC'>                   \n",
      "Train Score:\t1.000                                  \n",
      "CV Score:\t0.367                                     \n",
      "Test Score:\t0.200                                   \n",
      "==========                                          \n",
      "<class 'sklearn.neighbors.classification.KNeighborsClassifier'>\n",
      "Train Score:\t0.992                                                           \n",
      "CV Score:\t0.966                                                              \n",
      "Test Score:\t0.967                                                            \n",
      "==========                                                                   \n",
      "<class 'sklearn.svm.classes.SVC'>                                            \n",
      "Train Score:\t0.367                                                           \n",
      "CV Score:\t0.367                                                              \n",
      "Test Score:\t0.200                                                            \n",
      "==========                                                                   \n",
      "<class 'xgboost.sklearn.XGBClassifier'>                                      \n",
      "Train Score:\t0.983                                                           \n",
      "CV Score:\t0.941                                                              \n",
      "Test Score:\t0.933                                                            \n",
      "==========                                                                   \n",
      "<class 'xgboost.sklearn.XGBClassifier'>                                      \n",
      "Train Score:\t0.983                                                           \n",
      "CV Score:\t0.941                                                              \n",
      "Test Score:\t0.933                                                            \n",
      "==========                                                                   \n",
      "<class 'sklearn.neighbors.classification.KNeighborsClassifier'>              \n",
      "Train Score:\t0.967                                                           \n",
      "CV Score:\t0.957                                                              \n",
      "Test Score:\t0.900                                                            \n",
      "==========                                                                   \n",
      "<class 'xgboost.sklearn.XGBClassifier'>                                      \n",
      "Train Score:\t0.983                                                           \n",
      "CV Score:\t0.949                                                              \n",
      "Test Score:\t0.933                                                            \n",
      "==========                                                                   \n",
      "<class 'xgboost.sklearn.XGBClassifier'>                                      \n",
      "Train Score:\t0.983                                                           \n",
      "CV Score:\t0.941                                                              \n",
      "Test Score:\t0.933                                                            \n",
      "==========                                                                   \n",
      "<class 'sklearn.svm.classes.SVC'>                                            \n",
      "Train Score:\t1.000                                                           \n",
      "CV Score:\t0.367                                                              \n",
      "Test Score:\t0.200                                                            \n",
      "==========                                                                   \n",
      "<class 'sklearn.neighbors.classification.KNeighborsClassifier'>              \n",
      "Train Score:\t0.975                                                           \n",
      "CV Score:\t0.966                                                              \n",
      "Test Score:\t0.933                                                            \n",
      "==========                                                                   \n",
      "100%|██████████| 10/10 [00:02<00:00,  4.93it/s, best loss: 0.3665652173913043]\n"
     ]
    }
   ],
   "source": [
    "best_classifier = fmin(objective_func,\n",
    "                       space,\n",
    "                       algo=tpe.suggest,\n",
    "                       max_evals=10)"
   ]
  },
  {
   "cell_type": "code",
   "execution_count": 9,
   "metadata": {},
   "outputs": [
    {
     "name": "stdout",
     "output_type": "stream",
     "text": [
      "{'C_SVC': 1.7432426300284527, 'classifier': 1, 'degree_SVC': 5, 'gamma_SVC': 8450.238491617683, 'kernel_SVC': 0}\n"
     ]
    }
   ],
   "source": [
    "print(best_classifier)"
   ]
  }
 ],
 "metadata": {
  "kernelspec": {
   "display_name": "Python 3",
   "language": "python",
   "name": "python3"
  },
  "language_info": {
   "codemirror_mode": {
    "name": "ipython",
    "version": 3
   },
   "file_extension": ".py",
   "mimetype": "text/x-python",
   "name": "python",
   "nbconvert_exporter": "python",
   "pygments_lexer": "ipython3",
   "version": "3.7.1"
  }
 },
 "nbformat": 4,
 "nbformat_minor": 2
}
