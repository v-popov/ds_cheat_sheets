{
 "cells": [
  {
   "cell_type": "code",
   "execution_count": 59,
   "metadata": {},
   "outputs": [],
   "source": [
    "some_text = 'qwerty'\n",
    "some_integer = 1234\n",
    "some_negative = -3210\n",
    "some_float = 56.789"
   ]
  },
  {
   "cell_type": "markdown",
   "metadata": {},
   "source": [
    "General Syntax:\n",
    "***{\"Positinal Keyword\" : \"Option\" \"Format\"}***"
   ]
  },
  {
   "cell_type": "markdown",
   "metadata": {},
   "source": [
    "# \"Positinal Keyword\""
   ]
  },
  {
   "cell_type": "markdown",
   "metadata": {},
   "source": [
    "- if omitted, than {} are filled in sequential manner"
   ]
  },
  {
   "cell_type": "code",
   "execution_count": 33,
   "metadata": {},
   "outputs": [
    {
     "name": "stdout",
     "output_type": "stream",
     "text": [
      "STR: qwerty, INT: 1234\n"
     ]
    }
   ],
   "source": [
    "print('STR: {}, INT: {}'.format(some_text, some_integer))"
   ]
  },
  {
   "cell_type": "code",
   "execution_count": 48,
   "metadata": {},
   "outputs": [
    {
     "name": "stdout",
     "output_type": "stream",
     "text": [
      "not STR: 1234, not INT: qwerty\n"
     ]
    }
   ],
   "source": [
    "print('not STR: {1}, not INT: {0}'.format(some_text, some_integer))"
   ]
  },
  {
   "cell_type": "markdown",
   "metadata": {},
   "source": [
    "- if \"Positinal Keyword\" is specified for at least one {}, it should be specified for all of them"
   ]
  },
  {
   "cell_type": "code",
   "execution_count": 37,
   "metadata": {},
   "outputs": [
    {
     "name": "stdout",
     "output_type": "stream",
     "text": [
      "STR: qwerty, INT: 1234\n"
     ]
    }
   ],
   "source": [
    "# correct\n",
    "print('STR: {a}, INT: {b}'.format(a=some_text, b=some_integer))"
   ]
  },
  {
   "cell_type": "code",
   "execution_count": 39,
   "metadata": {},
   "outputs": [
    {
     "ename": "SyntaxError",
     "evalue": "positional argument follows keyword argument (<ipython-input-39-967e607a082b>, line 1)",
     "output_type": "error",
     "traceback": [
      "\u001b[1;36m  File \u001b[1;32m\"<ipython-input-39-967e607a082b>\"\u001b[1;36m, line \u001b[1;32m1\u001b[0m\n\u001b[1;33m    print('STR: {a}, INT: {}'.format(a=some_text, some_integer))\u001b[0m\n\u001b[1;37m                                                 ^\u001b[0m\n\u001b[1;31mSyntaxError\u001b[0m\u001b[1;31m:\u001b[0m positional argument follows keyword argument\n"
     ]
    }
   ],
   "source": [
    "# incorrect\n",
    "print('STR: {a}, INT: {}'.format(a=some_text, some_integer))"
   ]
  },
  {
   "cell_type": "markdown",
   "metadata": {},
   "source": [
    "# \"Option\""
   ]
  },
  {
   "cell_type": "code",
   "execution_count": 70,
   "metadata": {},
   "outputs": [
    {
     "name": "stdout",
     "output_type": "stream",
     "text": [
      "STR: |qwerty              |, INT: |      1234|\n"
     ]
    }
   ],
   "source": [
    "print('STR: |{:20s}|, INT: |{:10d}|'.format(some_text, some_integer))"
   ]
  },
  {
   "cell_type": "markdown",
   "metadata": {},
   "source": [
    "- \"<\" -> left alignment (default for strings)"
   ]
  },
  {
   "cell_type": "code",
   "execution_count": 71,
   "metadata": {},
   "outputs": [
    {
     "name": "stdout",
     "output_type": "stream",
     "text": [
      "STR: |qwerty              |, INT: |1234      |\n"
     ]
    }
   ],
   "source": [
    "print('STR: |{:20s}|, INT: |{:<10d}|'.format(some_text, some_integer))"
   ]
  },
  {
   "cell_type": "markdown",
   "metadata": {},
   "source": [
    "- \">\" -> right alignment (default for numbers)"
   ]
  },
  {
   "cell_type": "code",
   "execution_count": 73,
   "metadata": {},
   "outputs": [
    {
     "name": "stdout",
     "output_type": "stream",
     "text": [
      "STR: |              qwerty|, INT: |      1234|\n"
     ]
    }
   ],
   "source": [
    "print('STR: |{:>20s}|, INT: |{:10d}|'.format(some_text, some_integer))"
   ]
  },
  {
   "cell_type": "markdown",
   "metadata": {},
   "source": [
    "- \"0\" -> enables sign-aware zero padding for numbers"
   ]
  },
  {
   "cell_type": "code",
   "execution_count": 75,
   "metadata": {},
   "outputs": [
    {
     "name": "stdout",
     "output_type": "stream",
     "text": [
      "STR: qwerty, INT: |  1234|, NEG: | -3210|\n"
     ]
    }
   ],
   "source": [
    "print('STR: {}, INT: |{:6d}|, NEG: |{:6d}|'.format(some_text, some_integer, some_negative))"
   ]
  },
  {
   "cell_type": "code",
   "execution_count": 66,
   "metadata": {},
   "outputs": [
    {
     "name": "stdout",
     "output_type": "stream",
     "text": [
      "STR: qwerty, INT: |001234|, NEG: |-03210|\n"
     ]
    }
   ],
   "source": [
    "print('STR: {}, INT: |{:06d}|, NEG: |{:06d}|'.format(some_text, some_integer, some_negative))"
   ]
  },
  {
   "cell_type": "markdown",
   "metadata": {},
   "source": [
    "- \",\" -> enables comma as a thousands separator"
   ]
  },
  {
   "cell_type": "code",
   "execution_count": 83,
   "metadata": {},
   "outputs": [
    {
     "name": "stdout",
     "output_type": "stream",
     "text": [
      "INT: |  1234|\n"
     ]
    }
   ],
   "source": [
    "print('INT: |{:6d}|'.format(some_integer))"
   ]
  },
  {
   "cell_type": "code",
   "execution_count": 82,
   "metadata": {},
   "outputs": [
    {
     "name": "stdout",
     "output_type": "stream",
     "text": [
      "INT: | 1,234|\n"
     ]
    }
   ],
   "source": [
    "print('INT: |{:6,d}|'.format(some_integer))"
   ]
  },
  {
   "cell_type": "markdown",
   "metadata": {},
   "source": [
    "- \"^\" -> centers the field within available space"
   ]
  },
  {
   "cell_type": "code",
   "execution_count": 101,
   "metadata": {},
   "outputs": [
    {
     "name": "stdout",
     "output_type": "stream",
     "text": [
      "INT: |    1234|\n"
     ]
    }
   ],
   "source": [
    "print('INT: |{:8d}|'.format(some_integer))"
   ]
  },
  {
   "cell_type": "code",
   "execution_count": 102,
   "metadata": {},
   "outputs": [
    {
     "name": "stdout",
     "output_type": "stream",
     "text": [
      "INT: |  1234  |\n"
     ]
    }
   ],
   "source": [
    "print('INT: |{:^8d}|'.format(some_integer))"
   ]
  },
  {
   "cell_type": "markdown",
   "metadata": {},
   "source": [
    "- \" \" (space) -> enables leading space for positive numbers and minus sign for negative numbers"
   ]
  },
  {
   "cell_type": "code",
   "execution_count": 109,
   "metadata": {},
   "outputs": [
    {
     "name": "stdout",
     "output_type": "stream",
     "text": [
      "INT: |1234|, NEG: |-3210|\n"
     ]
    }
   ],
   "source": [
    "print('INT: |{:d}|, NEG: |{:d}|'.format(some_integer, some_negative))"
   ]
  },
  {
   "cell_type": "code",
   "execution_count": 114,
   "metadata": {},
   "outputs": [
    {
     "name": "stdout",
     "output_type": "stream",
     "text": [
      "INT: | 1234|, NEG: |-3210|\n"
     ]
    }
   ],
   "source": [
    "print('INT: |{: d}|, NEG: |{: d}|'.format(some_integer, some_negative))"
   ]
  },
  {
   "cell_type": "markdown",
   "metadata": {},
   "source": [
    "- \"+\" -> enables sign displaying on both positive and negative numbers"
   ]
  },
  {
   "cell_type": "code",
   "execution_count": 116,
   "metadata": {},
   "outputs": [
    {
     "name": "stdout",
     "output_type": "stream",
     "text": [
      "INT: |1234|, NEG: |-3210|\n"
     ]
    }
   ],
   "source": [
    "print('INT: |{:d}|, NEG: |{:d}|'.format(some_integer, some_negative))"
   ]
  },
  {
   "cell_type": "code",
   "execution_count": 117,
   "metadata": {},
   "outputs": [
    {
     "name": "stdout",
     "output_type": "stream",
     "text": [
      "INT: |+1234|, NEG: |-3210|\n"
     ]
    }
   ],
   "source": [
    "print('INT: |{:+d}|, NEG: |{:+d}|'.format(some_integer, some_negative))"
   ]
  },
  {
   "cell_type": "markdown",
   "metadata": {},
   "source": [
    "# Format"
   ]
  },
  {
   "cell_type": "markdown",
   "metadata": {},
   "source": [
    "**\"Num_Positions\"** + any of the following:\n",
    "- **\"s\"** -> for string\n",
    "- **\"d\"** -> for integer\n",
    "- **\".\" + \"Num_Precision_Digits\" + \"f\"** -> for float"
   ]
  },
  {
   "cell_type": "code",
   "execution_count": 125,
   "metadata": {},
   "outputs": [
    {
     "name": "stdout",
     "output_type": "stream",
     "text": [
      "STR: |qwerty|, INT: |1234|, FLOAT: |56.789|\n"
     ]
    }
   ],
   "source": [
    "print('STR: |{}|, INT: |{}|, FLOAT: |{}|'.format(some_text, some_integer, some_float))"
   ]
  },
  {
   "cell_type": "code",
   "execution_count": 124,
   "metadata": {},
   "outputs": [
    {
     "name": "stdout",
     "output_type": "stream",
     "text": [
      "STR: |qwerty              |, INT: | 1234|, FLOAT: |  56.78900|\n"
     ]
    }
   ],
   "source": [
    "print('STR: |{:20s}|, INT: |{:5d}|, FLOAT: |{:10.5f}|'.format(some_text, some_integer, some_float))"
   ]
  }
 ],
 "metadata": {
  "kernelspec": {
   "display_name": "Python 3",
   "language": "python",
   "name": "python3"
  },
  "language_info": {
   "codemirror_mode": {
    "name": "ipython",
    "version": 3
   },
   "file_extension": ".py",
   "mimetype": "text/x-python",
   "name": "python",
   "nbconvert_exporter": "python",
   "pygments_lexer": "ipython3",
   "version": "3.7.6"
  }
 },
 "nbformat": 4,
 "nbformat_minor": 2
}
