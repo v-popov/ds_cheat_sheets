{
 "cells": [
  {
   "cell_type": "markdown",
   "metadata": {},
   "source": [
    "Adapted from Karpov Courses"
   ]
  },
  {
   "cell_type": "code",
   "execution_count": 1,
   "metadata": {},
   "outputs": [],
   "source": [
    "from typing import Tuple, List\n",
    "import numpy as np\n",
    "import multiprocessing as mp\n",
    "import os\n",
    "from tqdm import tqdm_notebook"
   ]
  },
  {
   "cell_type": "code",
   "execution_count": 2,
   "metadata": {},
   "outputs": [],
   "source": [
    "N_bootstraps: int = 10000 # num boostrap samples (of size N each)\n",
    "mp.set_start_method('spawn', force=True) # spawn -> fork"
   ]
  },
  {
   "cell_type": "code",
   "execution_count": 3,
   "metadata": {},
   "outputs": [],
   "source": [
    "def poisson_bootstrap_tp_fp_fn_tn(\n",
    "    bundle: Tuple[float, List[Tuple[float, float, float, int]]],\n",
    "                                 ) ->List[np.ndarray]:\n",
    "    threshold, data = bundle\n",
    "    \n",
    "    # We take multiple bootstrap resamples from our data and want to\n",
    "    # figure out, how many TP, FP, FN and TN will be in each of them.\n",
    "    # This helps us to simulate the presense of multiple\n",
    "    # datasets that we use to evaluate our model.\n",
    "    TP = np.zeros((N_bootstraps))\n",
    "    FP = np.zeros((N_bootstraps))\n",
    "    FN = np.zeros((N_bootstraps))\n",
    "    TN = np.zeros((N_bootstraps))\n",
    "    \n",
    "    # Iterating over each individual datapoint (prediction)\n",
    "    for current_label, current_predict, weight, index in data:\n",
    "        np.random.seed(index) # for reproducibility\n",
    "        \n",
    "        current_predict += np.random.normal(0,0.0125,1) # add noise for testing robustness\n",
    "        current_predict = int(np.clip(current_predict,0,1) >= threshold) # make sure predictions are within [0,1] range\n",
    "        \n",
    "        # With regular bootstrap each resample contains N records.\n",
    "        # For IID data, we can actually describe any resample by the number of occurrences of each observation.\n",
    "        # Thus, we need to either sample from multinomial(N, (1/N, 1/N ...)) or\n",
    "        # sample each record independently from binomial(N, 1/N).\n",
    "        # However, as N is large, 1/N is small -> we can use Poisson(N * (1/N) = 1) to approximate Binomial(N, 1/N)\n",
    "        # and use it to calculate number of occurences of record #index in each of the resamples:\n",
    "        p_sample = np.random.poisson(1, N_bootstraps) * weight\n",
    "        \n",
    "        # If current label was classified as positive, and it is correct,\n",
    "        # then in each of the bootstrapped resamples this records will\n",
    "        # contribute to TP count by its number of occurences in the respective \n",
    "        # bootstrap resample:\n",
    "        if current_label == 1 and current_predict == 1: \n",
    "            TP += p_sample\n",
    "            \n",
    "            \n",
    "        elif current_label == 1 and current_predict == 0:\n",
    "            FN += p_sample\n",
    "        elif current_label == 0 and current_predict == 1:\n",
    "            FP += p_sample\n",
    "        elif current_label == 0 and current_predict == 0:\n",
    "            TN += p_sample\n",
    "            \n",
    "    return [TP, FP, FN, TN]         "
   ]
  },
  {
   "cell_type": "code",
   "execution_count": 4,
   "metadata": {},
   "outputs": [
    {
     "name": "stdout",
     "output_type": "stream",
     "text": [
      "[0 0 1 0 1 0 1 1 1 0]\n",
      "[0.46677325 0.47942523 0.76572266 1.         0.         0.35443751\n",
      " 0.         1.         1.         1.        ]\n",
      "[1 1 1 1 1 1 1 1 1 1]\n"
     ]
    }
   ],
   "source": [
    "N = 10**7\n",
    "labels = np.random.randint(0,2,N)\n",
    "predicts = np.clip(np.random.normal(0.5,1,N),0,1)\n",
    "weights = np.array([1 for _ in range(N)])\n",
    "\n",
    "print(labels[:10])\n",
    "print(predicts[:10])\n",
    "print(weights[:10])"
   ]
  },
  {
   "cell_type": "code",
   "execution_count": 5,
   "metadata": {},
   "outputs": [],
   "source": [
    "chunk_size = 1000\n",
    "threshold = 0.81\n",
    "generator = (\n",
    "    (\n",
    "        threshold,\n",
    "        [\n",
    "            (labels[x + y],\n",
    "             predicts[x + y],\n",
    "             weights[x + y],\n",
    "             x + y,\n",
    "            )\n",
    "    \n",
    "        for x in range(chunk_size)\n",
    "        if x+y < N\n",
    "        ],\n",
    "        \n",
    "    )\n",
    "        for y in range(0,N,chunk_size)\n",
    "\n",
    ")"
   ]
  },
  {
   "cell_type": "code",
   "execution_count": 6,
   "metadata": {},
   "outputs": [],
   "source": [
    "cpu_to_use = np.max([os.cpu_count() - 3,1])\n",
    "print(cpu_to_use)\n",
    "\n",
    "with mp.Pool(processes=cpu_to_use) as pool:\n",
    "    stat_list = list(tqdm_notebook(pool.imap(poisson_bootstrap_tp_fp_fn_tn,generator),\n",
    "                    total = N//chunk_size))\n",
    "    \n",
    "TP, FP, FN, TN = np.sum(stat_list)\n",
    "print(TP,FP,FN,TN)"
   ]
  },
  {
   "cell_type": "code",
   "execution_count": null,
   "metadata": {},
   "outputs": [],
   "source": []
  }
 ],
 "metadata": {
  "kernelspec": {
   "display_name": "Python 3",
   "language": "python",
   "name": "python3"
  },
  "language_info": {
   "codemirror_mode": {
    "name": "ipython",
    "version": 3
   },
   "file_extension": ".py",
   "mimetype": "text/x-python",
   "name": "python",
   "nbconvert_exporter": "python",
   "pygments_lexer": "ipython3",
   "version": "3.7.6"
  }
 },
 "nbformat": 4,
 "nbformat_minor": 4
}
