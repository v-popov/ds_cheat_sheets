{
 "cells": [
  {
   "cell_type": "markdown",
   "metadata": {},
   "source": [
    "Adapted from: http://book.pythontips.com/en/latest/args_and_kwargs.html"
   ]
  },
  {
   "cell_type": "markdown",
   "metadata": {},
   "source": [
    "It is not necessary to write \\*args or \\**kwargs. Only the * (asterisk) is necessary. \n",
    "\n",
    "You could have also written \\*var and \\*\\*vars. Writing \\*args and \\**kwargs is just a convention."
   ]
  },
  {
   "cell_type": "markdown",
   "metadata": {},
   "source": [
    "### \"args\" stands for \"arguments\"\n",
    "\n",
    "### \"kwargs\" stands for \"keyword arguments\""
   ]
  },
  {
   "cell_type": "markdown",
   "metadata": {},
   "source": [
    "They are mostly used in function definitions. \\*args and **kwargs allow you to pass a variable number of arguments to a function. What variable means here is that you do not know beforehand how many arguments can be passed to your function by the user so in this case you use these two keywords."
   ]
  },
  {
   "cell_type": "markdown",
   "metadata": {},
   "source": [
    "# Non-keyworded variable length arguments"
   ]
  },
  {
   "cell_type": "code",
   "execution_count": 1,
   "metadata": {},
   "outputs": [],
   "source": [
    "def func_1(normal_var, *args):\n",
    "    print('This is normal variable:\\n', normal_var)\n",
    "    \n",
    "    print('\\nThese are non-keyworded variable length arguments:')\n",
    "    for var in args:\n",
    "        print(var)"
   ]
  },
  {
   "cell_type": "code",
   "execution_count": 2,
   "metadata": {},
   "outputs": [
    {
     "name": "stdout",
     "output_type": "stream",
     "text": [
      "This is normal variable:\n",
      " 123\n",
      "\n",
      "These are non-keyworded variable length arguments:\n",
      "qwe\n",
      "777\n"
     ]
    }
   ],
   "source": [
    "func_1(123, 'qwe', 777)"
   ]
  },
  {
   "cell_type": "markdown",
   "metadata": {},
   "source": [
    "# Keyworded variable length arguments"
   ]
  },
  {
   "cell_type": "code",
   "execution_count": 3,
   "metadata": {},
   "outputs": [],
   "source": [
    "def func_2(normal_var, **kwargs):\n",
    "    print('This is normal variable:\\n', normal_var)\n",
    "    \n",
    "    print('\\nThese are keyworded variable length arguments:')\n",
    "    for key, value in kwargs.items():\n",
    "        print(key, value)"
   ]
  },
  {
   "cell_type": "code",
   "execution_count": 4,
   "metadata": {},
   "outputs": [
    {
     "name": "stdout",
     "output_type": "stream",
     "text": [
      "This is normal variable:\n",
      " 123\n",
      "\n",
      "These are keyworded variable length arguments:\n",
      "var_1 qwe\n",
      "var_2 777\n"
     ]
    }
   ],
   "source": [
    "func_2(123, var_1='qwe', var_2 = 777)"
   ]
  }
 ],
 "metadata": {
  "kernelspec": {
   "display_name": "Python 3",
   "language": "python",
   "name": "python3"
  },
  "language_info": {
   "codemirror_mode": {
    "name": "ipython",
    "version": 3
   },
   "file_extension": ".py",
   "mimetype": "text/x-python",
   "name": "python",
   "nbconvert_exporter": "python",
   "pygments_lexer": "ipython3",
   "version": "3.7.1"
  }
 },
 "nbformat": 4,
 "nbformat_minor": 2
}
