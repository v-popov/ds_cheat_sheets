{
 "cells": [
  {
   "cell_type": "code",
   "execution_count": 1,
   "metadata": {},
   "outputs": [],
   "source": [
    "from hyperopt import tpe, hp, fmin\n",
    "from lightgbm import LGBMRegressor\n",
    "\n",
    "from sklearn.datasets import load_boston\n",
    "from sklearn.model_selection import train_test_split, cross_val_score, KFold\n",
    "from sklearn.metrics import mean_squared_error as mse\n",
    "\n",
    "import numpy as np"
   ]
  },
  {
   "cell_type": "markdown",
   "metadata": {},
   "source": [
    "Metrics: https://scikit-learn.org/stable/modules/model_evaluation.html\n",
    "\n",
    "LGBM: https://github.com/microsoft/LightGBM/blob/master/docs/Parameters.rst"
   ]
  },
  {
   "cell_type": "code",
   "execution_count": 2,
   "metadata": {},
   "outputs": [],
   "source": [
    "x, y = load_boston(return_X_y=True)\n",
    "x_train, x_test, y_train, y_test = train_test_split(x, y, test_size=0.2, random_state=0)"
   ]
  },
  {
   "cell_type": "code",
   "execution_count": 3,
   "metadata": {},
   "outputs": [],
   "source": [
    "ESTIMATOR = LGBMRegressor\n",
    "INT_PARAMS = ['max_depth', 'n_estimators']\n",
    "CV_SCORING_METRIC = 'neg_mean_squared_error'\n",
    "N_SPLITS = 5\n",
    "MAX_EVALS = 100"
   ]
  },
  {
   "cell_type": "code",
   "execution_count": 4,
   "metadata": {},
   "outputs": [],
   "source": [
    "space = {\n",
    "           'objective' : hp.choice('objective', ['regression']),\n",
    "           'metric' : hp.choice('metric', ['mse']),\n",
    "           'n_jobs' : hp.choice('n_jobs', [3]),\n",
    "    \n",
    "           'colsample_bytree' : hp.uniform('colsample_bytree', 0.2, 0.8),\n",
    "           'learning_rate' : hp.uniform('learning_rate', 0.001, 0.5),\n",
    "           'subsample' : hp.uniform('subsample', 0.2, 0.8),\n",
    "\n",
    "           'max_depth' : hp.quniform('max_depth', 2, 9, 1), # 1 stands for q\n",
    "           'n_estimators' : hp.quniform('n_estimators', 50, 500, 1)\n",
    "        }"
   ]
  },
  {
   "cell_type": "code",
   "execution_count": 5,
   "metadata": {},
   "outputs": [],
   "source": [
    "def objective_func(params):\n",
    "    \n",
    "    for param_name in INT_PARAMS:\n",
    "        params[param_name] = int(params[param_name])\n",
    "    \n",
    "    estim = ESTIMATOR(**params)\n",
    "    \n",
    "    score = cross_val_score(estim, \n",
    "                            x_train, \n",
    "                            y_train, \n",
    "                            scoring=CV_SCORING_METRIC, \n",
    "                            cv=KFold(n_splits=N_SPLITS, \n",
    "                                     shuffle=True, \n",
    "                                     random_state=0)).mean()\n",
    "\n",
    "    return -score # minus because of 'NEG' in neg_mean_squared_error"
   ]
  },
  {
   "cell_type": "code",
   "execution_count": 6,
   "metadata": {},
   "outputs": [
    {
     "name": "stdout",
     "output_type": "stream",
     "text": [
      "100%|██████████| 100/100 [00:19<00:00,  4.71it/s, best loss: 8.466234990016847]\n"
     ]
    }
   ],
   "source": [
    "best_classifier = fmin(objective_func,\n",
    "                       space,\n",
    "                       algo=tpe.suggest,\n",
    "                       max_evals=MAX_EVALS, \n",
    "                       rstate=np.random.RandomState(0))"
   ]
  },
  {
   "cell_type": "code",
   "execution_count": 7,
   "metadata": {},
   "outputs": [
    {
     "data": {
      "text/plain": [
       "{'colsample_bytree': 0.6720306038517232,\n",
       " 'learning_rate': 0.07864416385719122,\n",
       " 'max_depth': 5.0,\n",
       " 'metric': 0,\n",
       " 'n_estimators': 407.0,\n",
       " 'n_jobs': 0,\n",
       " 'objective': 0,\n",
       " 'subsample': 0.5116384130392916}"
      ]
     },
     "execution_count": 7,
     "metadata": {},
     "output_type": "execute_result"
    }
   ],
   "source": [
    "best_classifier"
   ]
  },
  {
   "cell_type": "markdown",
   "metadata": {},
   "source": [
    "See 'hyperopt' notebook for more details"
   ]
  }
 ],
 "metadata": {
  "kernelspec": {
   "display_name": "Python 3",
   "language": "python",
   "name": "python3"
  },
  "language_info": {
   "codemirror_mode": {
    "name": "ipython",
    "version": 3
   },
   "file_extension": ".py",
   "mimetype": "text/x-python",
   "name": "python",
   "nbconvert_exporter": "python",
   "pygments_lexer": "ipython3",
   "version": "3.7.1"
  }
 },
 "nbformat": 4,
 "nbformat_minor": 2
}
