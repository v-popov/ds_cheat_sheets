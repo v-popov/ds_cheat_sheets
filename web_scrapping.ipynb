{
 "cells": [
  {
   "cell_type": "code",
   "execution_count": 1,
   "metadata": {},
   "outputs": [],
   "source": [
    "# Install ChromeDriver from here:\n",
    "# https://sites.google.com/a/chromium.org/chromedriver/downloads"
   ]
  },
  {
   "cell_type": "code",
   "execution_count": 2,
   "metadata": {},
   "outputs": [],
   "source": [
    "# pip install selenium\n",
    "from selenium import webdriver\n",
    "\n",
    "import time\n",
    "from selenium.webdriver.common.keys import Keys"
   ]
  },
  {
   "cell_type": "markdown",
   "metadata": {},
   "source": [
    "When at the website, press F12 to enter the developers mode.\n",
    "\n",
    "Press Ctrl+Shift+C to display the item under the mouse pointer.\n",
    "\n",
    "The code below goes to the zip-codes.com and gets the driving distance and geographical coordinates of two ZIP codes."
   ]
  },
  {
   "cell_type": "code",
   "execution_count": 3,
   "metadata": {},
   "outputs": [],
   "source": [
    "def get_driving_distance(driver, zip_from, zip_to):\n",
    "    inputElement = driver.find_element_by_id(\"from\")\n",
    "    inputElement.clear() # clearing the text field\n",
    "    inputElement.send_keys(zip_from)\n",
    "\n",
    "    inputElement = driver.find_element_by_id(\"to\")\n",
    "    inputElement.clear()\n",
    "    inputElement.send_keys(zip_to)\n",
    "\n",
    "    elem = driver.find_element_by_name(\"submit\")\n",
    "    elem.click()\n",
    "\n",
    "    inputElement = driver.find_element_by_xpath(\"//a[contains(@href,'mappingHere.loadDirections')]\")\n",
    "    inputElement.click()\n",
    "\n",
    "    driving_distance = driver.find_element_by_id('dist-driving-mi').text\n",
    "    print(driving_distance)\n",
    "    \n",
    "    el = driver.find_elements_by_xpath(\"//*[contains(text(), 'Longitude:')]\")\n",
    "    for e in el:\n",
    "        print(e.text)\n",
    "    print()"
   ]
  },
  {
   "cell_type": "code",
   "execution_count": 4,
   "metadata": {},
   "outputs": [],
   "source": [
    "# Open Chrome in incognito mode\n",
    "option = webdriver.ChromeOptions()\n",
    "option.add_argument(\"-incognito\")\n",
    "driver = webdriver.Chrome(executable_path=\"miscellaneous/chromedriver\", options=option)"
   ]
  },
  {
   "cell_type": "code",
   "execution_count": 5,
   "metadata": {},
   "outputs": [],
   "source": [
    "# Go to the website\n",
    "driver.get(\"https://www.zip-codes.com/distance_calculator.asp\")"
   ]
  },
  {
   "cell_type": "code",
   "execution_count": 6,
   "metadata": {},
   "outputs": [
    {
     "name": "stdout",
     "output_type": "stream",
     "text": [
      "592.08 miles\n",
      "Longitude: -82.947266\n",
      "Latitude: 46.187397\n",
      "Longitude: -72.657808\n",
      "Latitude: 45.037353\n",
      "\n"
     ]
    }
   ],
   "source": [
    "get_driving_distance(driver, zip_from='P0R 1B0', zip_to='J0E 1B0')"
   ]
  },
  {
   "cell_type": "code",
   "execution_count": 7,
   "metadata": {},
   "outputs": [
    {
     "name": "stdout",
     "output_type": "stream",
     "text": [
      "246.62 miles\n",
      "Longitude: -81.316989\n",
      "Latitude: 48.476642\n",
      "Longitude: -81.929497\n",
      "Latitude: 45.976686\n",
      "\n"
     ]
    }
   ],
   "source": [
    "get_driving_distance(driver, zip_from='P4N 7E4', zip_to='P0P 1K0')"
   ]
  }
 ],
 "metadata": {
  "kernelspec": {
   "display_name": "Python 3",
   "language": "python",
   "name": "python3"
  },
  "language_info": {
   "codemirror_mode": {
    "name": "ipython",
    "version": 3
   },
   "file_extension": ".py",
   "mimetype": "text/x-python",
   "name": "python",
   "nbconvert_exporter": "python",
   "pygments_lexer": "ipython3",
   "version": "3.7.1"
  }
 },
 "nbformat": 4,
 "nbformat_minor": 2
}
